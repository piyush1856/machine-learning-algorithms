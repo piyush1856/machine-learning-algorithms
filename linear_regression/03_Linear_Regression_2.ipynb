{
  "nbformat": 4,
  "nbformat_minor": 0,
  "metadata": {
    "colab": {
      "provenance": [],
      "include_colab_link": true
    },
    "kernelspec": {
      "name": "python3",
      "display_name": "Python 3"
    },
    "language_info": {
      "name": "python"
    }
  },
  "cells": [
    {
      "cell_type": "markdown",
      "metadata": {
        "id": "view-in-github",
        "colab_type": "text"
      },
      "source": [
        "<a href=\"https://colab.research.google.com/github/piyush1856/machine-learning-algorithms/blob/main/linear_regression/03_Linear_Regression_2.ipynb\" target=\"_parent\"><img src=\"https://colab.research.google.com/assets/colab-badge.svg\" alt=\"Open In Colab\"/></a>"
      ]
    },
    {
      "cell_type": "code",
      "source": [
        "import numpy as np\n",
        "import pandas as pd\n",
        "import matplotlib.pyplot as plt"
      ],
      "metadata": {
        "id": "eNsifx1FfJSc"
      },
      "execution_count": null,
      "outputs": []
    },
    {
      "cell_type": "code",
      "source": [
        "!gdown 1tWCalxQ6gGXD6sRTskh9XTjAgFH0xcNF\n",
        "\n",
        "!gdown 1Fp6e6vf_YID8qwCNHWSbvPH5-R3HQB5N\n",
        "\n",
        "!gdown 14q4g4K3DjIi7v8Omej9za9EmOpUeLIEH\n",
        "\n",
        "!gdown 1TSGIJi5vcXYd398KaJpn7RXvckmttYIt"
      ],
      "metadata": {
        "colab": {
          "base_uri": "https://localhost:8080/"
        },
        "id": "zWNZqDt8pv9u",
        "outputId": "b05d9186-bc21-4473-f3fe-f61e2778f808"
      },
      "execution_count": null,
      "outputs": [
        {
          "output_type": "stream",
          "name": "stdout",
          "text": [
            "Downloading...\n",
            "From: https://drive.google.com/uc?id=1tWCalxQ6gGXD6sRTskh9XTjAgFH0xcNF\n",
            "To: /content/cars24_x_train.pkl\n",
            "100% 1.78M/1.78M [00:00<00:00, 40.9MB/s]\n",
            "Downloading...\n",
            "From: https://drive.google.com/uc?id=1Fp6e6vf_YID8qwCNHWSbvPH5-R3HQB5N\n",
            "To: /content/cars24_X_test.pkl\n",
            "100% 762k/762k [00:00<00:00, 30.5MB/s]\n",
            "Downloading...\n",
            "From: https://drive.google.com/uc?id=14q4g4K3DjIi7v8Omej9za9EmOpUeLIEH\n",
            "To: /content/cars24_y_train.pkl\n",
            "100% 112k/112k [00:00<00:00, 67.8MB/s]\n",
            "Downloading...\n",
            "From: https://drive.google.com/uc?id=1TSGIJi5vcXYd398KaJpn7RXvckmttYIt\n",
            "To: /content/cars24_y_test.pkl\n",
            "100% 48.2k/48.2k [00:00<00:00, 69.9MB/s]\n"
          ]
        }
      ]
    },
    {
      "cell_type": "code",
      "source": [
        "X_train = pd.read_pickle('/content/cars24_x_train.pkl')\n",
        "X_test = pd.read_pickle(\"/content/cars24_X_test.pkl\")\n",
        "y_train = pd.read_pickle(\"/content/cars24_y_train.pkl\")\n",
        "y_test = pd.read_pickle(\"/content/cars24_y_test.pkl\")"
      ],
      "metadata": {
        "id": "zXO4B-HWpyJy"
      },
      "execution_count": null,
      "outputs": []
    },
    {
      "cell_type": "code",
      "source": [
        "from sklearn.linear_model import LinearRegression\n",
        "model = LinearRegression()\n",
        "model.fit(X_train, y_train)"
      ],
      "metadata": {
        "colab": {
          "base_uri": "https://localhost:8080/",
          "height": 80
        },
        "id": "Q1jLGZ0ep0Fq",
        "outputId": "f25217f2-3384-41d8-fd6a-1ae3e2c16610"
      },
      "execution_count": null,
      "outputs": [
        {
          "output_type": "execute_result",
          "data": {
            "text/plain": [
              "LinearRegression()"
            ],
            "text/html": [
              "<style>#sk-container-id-1 {\n",
              "  /* Definition of color scheme common for light and dark mode */\n",
              "  --sklearn-color-text: black;\n",
              "  --sklearn-color-line: gray;\n",
              "  /* Definition of color scheme for unfitted estimators */\n",
              "  --sklearn-color-unfitted-level-0: #fff5e6;\n",
              "  --sklearn-color-unfitted-level-1: #f6e4d2;\n",
              "  --sklearn-color-unfitted-level-2: #ffe0b3;\n",
              "  --sklearn-color-unfitted-level-3: chocolate;\n",
              "  /* Definition of color scheme for fitted estimators */\n",
              "  --sklearn-color-fitted-level-0: #f0f8ff;\n",
              "  --sklearn-color-fitted-level-1: #d4ebff;\n",
              "  --sklearn-color-fitted-level-2: #b3dbfd;\n",
              "  --sklearn-color-fitted-level-3: cornflowerblue;\n",
              "\n",
              "  /* Specific color for light theme */\n",
              "  --sklearn-color-text-on-default-background: var(--sg-text-color, var(--theme-code-foreground, var(--jp-content-font-color1, black)));\n",
              "  --sklearn-color-background: var(--sg-background-color, var(--theme-background, var(--jp-layout-color0, white)));\n",
              "  --sklearn-color-border-box: var(--sg-text-color, var(--theme-code-foreground, var(--jp-content-font-color1, black)));\n",
              "  --sklearn-color-icon: #696969;\n",
              "\n",
              "  @media (prefers-color-scheme: dark) {\n",
              "    /* Redefinition of color scheme for dark theme */\n",
              "    --sklearn-color-text-on-default-background: var(--sg-text-color, var(--theme-code-foreground, var(--jp-content-font-color1, white)));\n",
              "    --sklearn-color-background: var(--sg-background-color, var(--theme-background, var(--jp-layout-color0, #111)));\n",
              "    --sklearn-color-border-box: var(--sg-text-color, var(--theme-code-foreground, var(--jp-content-font-color1, white)));\n",
              "    --sklearn-color-icon: #878787;\n",
              "  }\n",
              "}\n",
              "\n",
              "#sk-container-id-1 {\n",
              "  color: var(--sklearn-color-text);\n",
              "}\n",
              "\n",
              "#sk-container-id-1 pre {\n",
              "  padding: 0;\n",
              "}\n",
              "\n",
              "#sk-container-id-1 input.sk-hidden--visually {\n",
              "  border: 0;\n",
              "  clip: rect(1px 1px 1px 1px);\n",
              "  clip: rect(1px, 1px, 1px, 1px);\n",
              "  height: 1px;\n",
              "  margin: -1px;\n",
              "  overflow: hidden;\n",
              "  padding: 0;\n",
              "  position: absolute;\n",
              "  width: 1px;\n",
              "}\n",
              "\n",
              "#sk-container-id-1 div.sk-dashed-wrapped {\n",
              "  border: 1px dashed var(--sklearn-color-line);\n",
              "  margin: 0 0.4em 0.5em 0.4em;\n",
              "  box-sizing: border-box;\n",
              "  padding-bottom: 0.4em;\n",
              "  background-color: var(--sklearn-color-background);\n",
              "}\n",
              "\n",
              "#sk-container-id-1 div.sk-container {\n",
              "  /* jupyter's `normalize.less` sets `[hidden] { display: none; }`\n",
              "     but bootstrap.min.css set `[hidden] { display: none !important; }`\n",
              "     so we also need the `!important` here to be able to override the\n",
              "     default hidden behavior on the sphinx rendered scikit-learn.org.\n",
              "     See: https://github.com/scikit-learn/scikit-learn/issues/21755 */\n",
              "  display: inline-block !important;\n",
              "  position: relative;\n",
              "}\n",
              "\n",
              "#sk-container-id-1 div.sk-text-repr-fallback {\n",
              "  display: none;\n",
              "}\n",
              "\n",
              "div.sk-parallel-item,\n",
              "div.sk-serial,\n",
              "div.sk-item {\n",
              "  /* draw centered vertical line to link estimators */\n",
              "  background-image: linear-gradient(var(--sklearn-color-text-on-default-background), var(--sklearn-color-text-on-default-background));\n",
              "  background-size: 2px 100%;\n",
              "  background-repeat: no-repeat;\n",
              "  background-position: center center;\n",
              "}\n",
              "\n",
              "/* Parallel-specific style estimator block */\n",
              "\n",
              "#sk-container-id-1 div.sk-parallel-item::after {\n",
              "  content: \"\";\n",
              "  width: 100%;\n",
              "  border-bottom: 2px solid var(--sklearn-color-text-on-default-background);\n",
              "  flex-grow: 1;\n",
              "}\n",
              "\n",
              "#sk-container-id-1 div.sk-parallel {\n",
              "  display: flex;\n",
              "  align-items: stretch;\n",
              "  justify-content: center;\n",
              "  background-color: var(--sklearn-color-background);\n",
              "  position: relative;\n",
              "}\n",
              "\n",
              "#sk-container-id-1 div.sk-parallel-item {\n",
              "  display: flex;\n",
              "  flex-direction: column;\n",
              "}\n",
              "\n",
              "#sk-container-id-1 div.sk-parallel-item:first-child::after {\n",
              "  align-self: flex-end;\n",
              "  width: 50%;\n",
              "}\n",
              "\n",
              "#sk-container-id-1 div.sk-parallel-item:last-child::after {\n",
              "  align-self: flex-start;\n",
              "  width: 50%;\n",
              "}\n",
              "\n",
              "#sk-container-id-1 div.sk-parallel-item:only-child::after {\n",
              "  width: 0;\n",
              "}\n",
              "\n",
              "/* Serial-specific style estimator block */\n",
              "\n",
              "#sk-container-id-1 div.sk-serial {\n",
              "  display: flex;\n",
              "  flex-direction: column;\n",
              "  align-items: center;\n",
              "  background-color: var(--sklearn-color-background);\n",
              "  padding-right: 1em;\n",
              "  padding-left: 1em;\n",
              "}\n",
              "\n",
              "\n",
              "/* Toggleable style: style used for estimator/Pipeline/ColumnTransformer box that is\n",
              "clickable and can be expanded/collapsed.\n",
              "- Pipeline and ColumnTransformer use this feature and define the default style\n",
              "- Estimators will overwrite some part of the style using the `sk-estimator` class\n",
              "*/\n",
              "\n",
              "/* Pipeline and ColumnTransformer style (default) */\n",
              "\n",
              "#sk-container-id-1 div.sk-toggleable {\n",
              "  /* Default theme specific background. It is overwritten whether we have a\n",
              "  specific estimator or a Pipeline/ColumnTransformer */\n",
              "  background-color: var(--sklearn-color-background);\n",
              "}\n",
              "\n",
              "/* Toggleable label */\n",
              "#sk-container-id-1 label.sk-toggleable__label {\n",
              "  cursor: pointer;\n",
              "  display: block;\n",
              "  width: 100%;\n",
              "  margin-bottom: 0;\n",
              "  padding: 0.5em;\n",
              "  box-sizing: border-box;\n",
              "  text-align: center;\n",
              "}\n",
              "\n",
              "#sk-container-id-1 label.sk-toggleable__label-arrow:before {\n",
              "  /* Arrow on the left of the label */\n",
              "  content: \"▸\";\n",
              "  float: left;\n",
              "  margin-right: 0.25em;\n",
              "  color: var(--sklearn-color-icon);\n",
              "}\n",
              "\n",
              "#sk-container-id-1 label.sk-toggleable__label-arrow:hover:before {\n",
              "  color: var(--sklearn-color-text);\n",
              "}\n",
              "\n",
              "/* Toggleable content - dropdown */\n",
              "\n",
              "#sk-container-id-1 div.sk-toggleable__content {\n",
              "  max-height: 0;\n",
              "  max-width: 0;\n",
              "  overflow: hidden;\n",
              "  text-align: left;\n",
              "  /* unfitted */\n",
              "  background-color: var(--sklearn-color-unfitted-level-0);\n",
              "}\n",
              "\n",
              "#sk-container-id-1 div.sk-toggleable__content.fitted {\n",
              "  /* fitted */\n",
              "  background-color: var(--sklearn-color-fitted-level-0);\n",
              "}\n",
              "\n",
              "#sk-container-id-1 div.sk-toggleable__content pre {\n",
              "  margin: 0.2em;\n",
              "  border-radius: 0.25em;\n",
              "  color: var(--sklearn-color-text);\n",
              "  /* unfitted */\n",
              "  background-color: var(--sklearn-color-unfitted-level-0);\n",
              "}\n",
              "\n",
              "#sk-container-id-1 div.sk-toggleable__content.fitted pre {\n",
              "  /* unfitted */\n",
              "  background-color: var(--sklearn-color-fitted-level-0);\n",
              "}\n",
              "\n",
              "#sk-container-id-1 input.sk-toggleable__control:checked~div.sk-toggleable__content {\n",
              "  /* Expand drop-down */\n",
              "  max-height: 200px;\n",
              "  max-width: 100%;\n",
              "  overflow: auto;\n",
              "}\n",
              "\n",
              "#sk-container-id-1 input.sk-toggleable__control:checked~label.sk-toggleable__label-arrow:before {\n",
              "  content: \"▾\";\n",
              "}\n",
              "\n",
              "/* Pipeline/ColumnTransformer-specific style */\n",
              "\n",
              "#sk-container-id-1 div.sk-label input.sk-toggleable__control:checked~label.sk-toggleable__label {\n",
              "  color: var(--sklearn-color-text);\n",
              "  background-color: var(--sklearn-color-unfitted-level-2);\n",
              "}\n",
              "\n",
              "#sk-container-id-1 div.sk-label.fitted input.sk-toggleable__control:checked~label.sk-toggleable__label {\n",
              "  background-color: var(--sklearn-color-fitted-level-2);\n",
              "}\n",
              "\n",
              "/* Estimator-specific style */\n",
              "\n",
              "/* Colorize estimator box */\n",
              "#sk-container-id-1 div.sk-estimator input.sk-toggleable__control:checked~label.sk-toggleable__label {\n",
              "  /* unfitted */\n",
              "  background-color: var(--sklearn-color-unfitted-level-2);\n",
              "}\n",
              "\n",
              "#sk-container-id-1 div.sk-estimator.fitted input.sk-toggleable__control:checked~label.sk-toggleable__label {\n",
              "  /* fitted */\n",
              "  background-color: var(--sklearn-color-fitted-level-2);\n",
              "}\n",
              "\n",
              "#sk-container-id-1 div.sk-label label.sk-toggleable__label,\n",
              "#sk-container-id-1 div.sk-label label {\n",
              "  /* The background is the default theme color */\n",
              "  color: var(--sklearn-color-text-on-default-background);\n",
              "}\n",
              "\n",
              "/* On hover, darken the color of the background */\n",
              "#sk-container-id-1 div.sk-label:hover label.sk-toggleable__label {\n",
              "  color: var(--sklearn-color-text);\n",
              "  background-color: var(--sklearn-color-unfitted-level-2);\n",
              "}\n",
              "\n",
              "/* Label box, darken color on hover, fitted */\n",
              "#sk-container-id-1 div.sk-label.fitted:hover label.sk-toggleable__label.fitted {\n",
              "  color: var(--sklearn-color-text);\n",
              "  background-color: var(--sklearn-color-fitted-level-2);\n",
              "}\n",
              "\n",
              "/* Estimator label */\n",
              "\n",
              "#sk-container-id-1 div.sk-label label {\n",
              "  font-family: monospace;\n",
              "  font-weight: bold;\n",
              "  display: inline-block;\n",
              "  line-height: 1.2em;\n",
              "}\n",
              "\n",
              "#sk-container-id-1 div.sk-label-container {\n",
              "  text-align: center;\n",
              "}\n",
              "\n",
              "/* Estimator-specific */\n",
              "#sk-container-id-1 div.sk-estimator {\n",
              "  font-family: monospace;\n",
              "  border: 1px dotted var(--sklearn-color-border-box);\n",
              "  border-radius: 0.25em;\n",
              "  box-sizing: border-box;\n",
              "  margin-bottom: 0.5em;\n",
              "  /* unfitted */\n",
              "  background-color: var(--sklearn-color-unfitted-level-0);\n",
              "}\n",
              "\n",
              "#sk-container-id-1 div.sk-estimator.fitted {\n",
              "  /* fitted */\n",
              "  background-color: var(--sklearn-color-fitted-level-0);\n",
              "}\n",
              "\n",
              "/* on hover */\n",
              "#sk-container-id-1 div.sk-estimator:hover {\n",
              "  /* unfitted */\n",
              "  background-color: var(--sklearn-color-unfitted-level-2);\n",
              "}\n",
              "\n",
              "#sk-container-id-1 div.sk-estimator.fitted:hover {\n",
              "  /* fitted */\n",
              "  background-color: var(--sklearn-color-fitted-level-2);\n",
              "}\n",
              "\n",
              "/* Specification for estimator info (e.g. \"i\" and \"?\") */\n",
              "\n",
              "/* Common style for \"i\" and \"?\" */\n",
              "\n",
              ".sk-estimator-doc-link,\n",
              "a:link.sk-estimator-doc-link,\n",
              "a:visited.sk-estimator-doc-link {\n",
              "  float: right;\n",
              "  font-size: smaller;\n",
              "  line-height: 1em;\n",
              "  font-family: monospace;\n",
              "  background-color: var(--sklearn-color-background);\n",
              "  border-radius: 1em;\n",
              "  height: 1em;\n",
              "  width: 1em;\n",
              "  text-decoration: none !important;\n",
              "  margin-left: 1ex;\n",
              "  /* unfitted */\n",
              "  border: var(--sklearn-color-unfitted-level-1) 1pt solid;\n",
              "  color: var(--sklearn-color-unfitted-level-1);\n",
              "}\n",
              "\n",
              ".sk-estimator-doc-link.fitted,\n",
              "a:link.sk-estimator-doc-link.fitted,\n",
              "a:visited.sk-estimator-doc-link.fitted {\n",
              "  /* fitted */\n",
              "  border: var(--sklearn-color-fitted-level-1) 1pt solid;\n",
              "  color: var(--sklearn-color-fitted-level-1);\n",
              "}\n",
              "\n",
              "/* On hover */\n",
              "div.sk-estimator:hover .sk-estimator-doc-link:hover,\n",
              ".sk-estimator-doc-link:hover,\n",
              "div.sk-label-container:hover .sk-estimator-doc-link:hover,\n",
              ".sk-estimator-doc-link:hover {\n",
              "  /* unfitted */\n",
              "  background-color: var(--sklearn-color-unfitted-level-3);\n",
              "  color: var(--sklearn-color-background);\n",
              "  text-decoration: none;\n",
              "}\n",
              "\n",
              "div.sk-estimator.fitted:hover .sk-estimator-doc-link.fitted:hover,\n",
              ".sk-estimator-doc-link.fitted:hover,\n",
              "div.sk-label-container:hover .sk-estimator-doc-link.fitted:hover,\n",
              ".sk-estimator-doc-link.fitted:hover {\n",
              "  /* fitted */\n",
              "  background-color: var(--sklearn-color-fitted-level-3);\n",
              "  color: var(--sklearn-color-background);\n",
              "  text-decoration: none;\n",
              "}\n",
              "\n",
              "/* Span, style for the box shown on hovering the info icon */\n",
              ".sk-estimator-doc-link span {\n",
              "  display: none;\n",
              "  z-index: 9999;\n",
              "  position: relative;\n",
              "  font-weight: normal;\n",
              "  right: .2ex;\n",
              "  padding: .5ex;\n",
              "  margin: .5ex;\n",
              "  width: min-content;\n",
              "  min-width: 20ex;\n",
              "  max-width: 50ex;\n",
              "  color: var(--sklearn-color-text);\n",
              "  box-shadow: 2pt 2pt 4pt #999;\n",
              "  /* unfitted */\n",
              "  background: var(--sklearn-color-unfitted-level-0);\n",
              "  border: .5pt solid var(--sklearn-color-unfitted-level-3);\n",
              "}\n",
              "\n",
              ".sk-estimator-doc-link.fitted span {\n",
              "  /* fitted */\n",
              "  background: var(--sklearn-color-fitted-level-0);\n",
              "  border: var(--sklearn-color-fitted-level-3);\n",
              "}\n",
              "\n",
              ".sk-estimator-doc-link:hover span {\n",
              "  display: block;\n",
              "}\n",
              "\n",
              "/* \"?\"-specific style due to the `<a>` HTML tag */\n",
              "\n",
              "#sk-container-id-1 a.estimator_doc_link {\n",
              "  float: right;\n",
              "  font-size: 1rem;\n",
              "  line-height: 1em;\n",
              "  font-family: monospace;\n",
              "  background-color: var(--sklearn-color-background);\n",
              "  border-radius: 1rem;\n",
              "  height: 1rem;\n",
              "  width: 1rem;\n",
              "  text-decoration: none;\n",
              "  /* unfitted */\n",
              "  color: var(--sklearn-color-unfitted-level-1);\n",
              "  border: var(--sklearn-color-unfitted-level-1) 1pt solid;\n",
              "}\n",
              "\n",
              "#sk-container-id-1 a.estimator_doc_link.fitted {\n",
              "  /* fitted */\n",
              "  border: var(--sklearn-color-fitted-level-1) 1pt solid;\n",
              "  color: var(--sklearn-color-fitted-level-1);\n",
              "}\n",
              "\n",
              "/* On hover */\n",
              "#sk-container-id-1 a.estimator_doc_link:hover {\n",
              "  /* unfitted */\n",
              "  background-color: var(--sklearn-color-unfitted-level-3);\n",
              "  color: var(--sklearn-color-background);\n",
              "  text-decoration: none;\n",
              "}\n",
              "\n",
              "#sk-container-id-1 a.estimator_doc_link.fitted:hover {\n",
              "  /* fitted */\n",
              "  background-color: var(--sklearn-color-fitted-level-3);\n",
              "}\n",
              "</style><div id=\"sk-container-id-1\" class=\"sk-top-container\"><div class=\"sk-text-repr-fallback\"><pre>LinearRegression()</pre><b>In a Jupyter environment, please rerun this cell to show the HTML representation or trust the notebook. <br />On GitHub, the HTML representation is unable to render, please try loading this page with nbviewer.org.</b></div><div class=\"sk-container\" hidden><div class=\"sk-item\"><div class=\"sk-estimator fitted sk-toggleable\"><input class=\"sk-toggleable__control sk-hidden--visually\" id=\"sk-estimator-id-1\" type=\"checkbox\" checked><label for=\"sk-estimator-id-1\" class=\"sk-toggleable__label fitted sk-toggleable__label-arrow fitted\">&nbsp;&nbsp;LinearRegression<a class=\"sk-estimator-doc-link fitted\" rel=\"noreferrer\" target=\"_blank\" href=\"https://scikit-learn.org/1.5/modules/generated/sklearn.linear_model.LinearRegression.html\">?<span>Documentation for LinearRegression</span></a><span class=\"sk-estimator-doc-link fitted\">i<span>Fitted</span></span></label><div class=\"sk-toggleable__content fitted\"><pre>LinearRegression()</pre></div> </div></div></div></div>"
            ]
          },
          "metadata": {},
          "execution_count": 4
        }
      ]
    },
    {
      "cell_type": "code",
      "source": [
        "model.coef_"
      ],
      "metadata": {
        "colab": {
          "base_uri": "https://localhost:8080/"
        },
        "id": "QbxE9uPgp5BB",
        "outputId": "b00a8063-1e44-4786-ca1c-89c18d7d9cbd"
      },
      "execution_count": null,
      "outputs": [
        {
          "output_type": "execute_result",
          "data": {
            "text/plain": [
              "array([-0.22864076, -0.22718566,  0.06493271,  0.04101896, -0.20803904,\n",
              "        0.06292526,  0.8680704 , -0.00692582, -0.00676553,  0.00537632,\n",
              "        0.13338991,  0.01451176, -0.00704768, -0.0039257 , -0.01313206,\n",
              "       -0.02020274])"
            ]
          },
          "metadata": {},
          "execution_count": 5
        }
      ]
    },
    {
      "cell_type": "code",
      "source": [
        "model.intercept_"
      ],
      "metadata": {
        "colab": {
          "base_uri": "https://localhost:8080/"
        },
        "id": "sJJAn3j5p7b3",
        "outputId": "ad3ac0d1-9505-4e41-a2b2-b1bae69911e2"
      },
      "execution_count": null,
      "outputs": [
        {
          "output_type": "execute_result",
          "data": {
            "text/plain": [
              "0.11212257190753999"
            ]
          },
          "metadata": {},
          "execution_count": 6
        }
      ]
    },
    {
      "cell_type": "code",
      "source": [
        "print(model.score(X_train, y_train))\n",
        "print(model.score(X_test, y_test))"
      ],
      "metadata": {
        "colab": {
          "base_uri": "https://localhost:8080/"
        },
        "id": "uM2X3YGcqDr7",
        "outputId": "18d262fe-948b-4773-c3a9-246cd791f9b6"
      },
      "execution_count": null,
      "outputs": [
        {
          "output_type": "stream",
          "name": "stdout",
          "text": [
            "0.9485893510587335\n",
            "0.8019230466998655\n"
          ]
        }
      ]
    },
    {
      "cell_type": "code",
      "source": [
        "import seaborn as sns\n",
        "\n",
        "imp = pd.DataFrame(list(zip(X_test.columns,np.abs(model.coef_))),\n",
        "                   columns=['feature', 'coeff'])\n",
        "sns.barplot(x='feature', y='coeff', data=imp)\n",
        "plt.xticks(rotation = 75)"
      ],
      "metadata": {
        "colab": {
          "base_uri": "https://localhost:8080/",
          "height": 850
        },
        "id": "snUFSGvMqWdS",
        "outputId": "3e3f41e1-41a0-4d35-beca-638ee2985fe3"
      },
      "execution_count": null,
      "outputs": [
        {
          "output_type": "execute_result",
          "data": {
            "text/plain": [
              "([0, 1, 2, 3, 4, 5, 6, 7, 8, 9, 10, 11, 12, 13, 14, 15],\n",
              " [Text(0, 0, 'km_driven'),\n",
              "  Text(1, 0, 'mileage'),\n",
              "  Text(2, 0, 'engine'),\n",
              "  Text(3, 0, 'max_power'),\n",
              "  Text(4, 0, 'age'),\n",
              "  Text(5, 0, 'make'),\n",
              "  Text(6, 0, 'model'),\n",
              "  Text(7, 0, 'Individual'),\n",
              "  Text(8, 0, 'Trustmark Dealer'),\n",
              "  Text(9, 0, 'Diesel'),\n",
              "  Text(10, 0, 'Electric'),\n",
              "  Text(11, 0, 'LPG'),\n",
              "  Text(12, 0, 'Petrol'),\n",
              "  Text(13, 0, 'Manual'),\n",
              "  Text(14, 0, '5'),\n",
              "  Text(15, 0, '>5')])"
            ]
          },
          "metadata": {},
          "execution_count": 8
        },
        {
          "output_type": "display_data",
          "data": {
            "text/plain": [
              "<Figure size 640x480 with 1 Axes>"
            ],
            "image/png": "[encoded data removed]"
          },
          "metadata": {}
        }
      ]
    },
    {
      "cell_type": "code",
      "source": [
        "X_test.columns[np.argmax(np.abs(model.coef_))]\n"
      ],
      "metadata": {
        "colab": {
          "base_uri": "https://localhost:8080/",
          "height": 35
        },
        "id": "s_CT6De9qdoD",
        "outputId": "c179dd8b-f05b-41bb-a2e0-65dc1bbb9be9"
      },
      "execution_count": null,
      "outputs": [
        {
          "output_type": "execute_result",
          "data": {
            "text/plain": [
              "'model'"
            ],
            "application/vnd.google.colaboratory.intrinsic+json": {
              "type": "string"
            }
          },
          "metadata": {},
          "execution_count": 9
        }
      ]
    },
    {
      "cell_type": "code",
      "source": [
        "X_test.columns[np.argmin(np.abs(model.coef_))]\n"
      ],
      "metadata": {
        "colab": {
          "base_uri": "https://localhost:8080/",
          "height": 35
        },
        "id": "XhmZGcpjqx4a",
        "outputId": "5bf98f36-9d85-4d58-dc7a-7482875a5ab5"
      },
      "execution_count": null,
      "outputs": [
        {
          "output_type": "execute_result",
          "data": {
            "text/plain": [
              "'Manual'"
            ],
            "application/vnd.google.colaboratory.intrinsic+json": {
              "type": "string"
            }
          },
          "metadata": {},
          "execution_count": 10
        }
      ]
    },
    {
      "cell_type": "markdown",
      "source": [
        "### Linear Regression"
      ],
      "metadata": {
        "id": "hXUO6pH90o_k"
      }
    },
    {
      "cell_type": "code",
      "source": [
        "import numpy as np\n",
        "class LinearRegression() :\n",
        "  def __init__(self, learning_rate=0.01, iterations=5):\n",
        "    self.learning_rate = learning_rate\n",
        "    self.iterations = iterations"
      ],
      "metadata": {
        "id": "NQpJVcKRq3_n"
      },
      "execution_count": null,
      "outputs": []
    },
    {
      "cell_type": "code",
      "source": [
        "def predict(self, X):\n",
        "  return np.dot(X, self.W)+self.b\n",
        "\n",
        "LinearRegression.predict=predict"
      ],
      "metadata": {
        "id": "9XEwCTyo08Lk"
      },
      "execution_count": null,
      "outputs": []
    },
    {
      "cell_type": "code",
      "source": [
        "def r2_score(self, X, y):\n",
        "  y_ = predict(self,X)\n",
        "  ss_res = np.sum((y-y_)**2)\n",
        "  ss_tot = np.sum((y- y.mean())**2)\n",
        "  score = (1- ss_res/ss_tot)\n",
        "  return score\n",
        "\n",
        "LinearRegression.score=r2_score"
      ],
      "metadata": {
        "id": "Eli63gI11KbL"
      },
      "execution_count": null,
      "outputs": []
    },
    {
      "cell_type": "code",
      "source": [
        "def update_weights(self):\n",
        "  Y_pred = self.predict( self.X )\n",
        "  # calculate gradients\n",
        "  dW = - (2*(self.X.T ).dot(self.Y - Y_pred))/self.m\n",
        "  db = - 2*np.sum(self.Y - Y_pred)/self.m\n",
        "  # update weights\n",
        "  self.W = self.W - self.learning_rate * dW\n",
        "  self.b = self.b - self.learning_rate * db\n",
        "  return self\n",
        "\n",
        "LinearRegression.update_weights=update_weights"
      ],
      "metadata": {
        "id": "BW7-PadE1Wqu"
      },
      "execution_count": null,
      "outputs": []
    },
    {
      "cell_type": "code",
      "source": [
        "def fit(self, X, Y):\n",
        "  # no_of_training_examples, no_of_features\n",
        "  self.m, self.d = X.shape\n",
        "  # weight initialization\n",
        "  self.W = np.zeros(self.d)\n",
        "  self.b = 0\n",
        "  self.X = X\n",
        "  self.Y = Y\n",
        "  self.error_list=[]\n",
        "  # gradient descent learning\n",
        "  for i in range(self.iterations):\n",
        "    self.update_weights()\n",
        "    Y_pred=X.dot(self.W)+self.b\n",
        "    error=np.square(np.subtract(Y,Y_pred)).mean()\n",
        "    self.error_list.append(error)\n",
        "  return self\n",
        "\n",
        "LinearRegression.fit=fit"
      ],
      "metadata": {
        "id": "S5dyi6Vj271f"
      },
      "execution_count": null,
      "outputs": []
    },
    {
      "cell_type": "code",
      "source": [
        "import numpy as np\n",
        "import pandas as pd\n",
        "import matplotlib.pyplot as plt\n",
        "\n",
        "!gdown 1UpLnYA48Vy_lGUMMLG-uQE1gf_Je12Lh"
      ],
      "metadata": {
        "colab": {
          "base_uri": "https://localhost:8080/"
        },
        "id": "xVmI0-ZH3Uju",
        "outputId": "02518612-ad73-4c01-8dd7-eea0d007fb22"
      },
      "execution_count": null,
      "outputs": [
        {
          "output_type": "stream",
          "name": "stdout",
          "text": [
            "Downloading...\n",
            "From: https://drive.google.com/uc?id=1UpLnYA48Vy_lGUMMLG-uQE1gf_Je12Lh\n",
            "To: /content/cars24-car-price-clean.csv\n",
            "100% 7.10M/7.10M [00:00<00:00, 31.3MB/s]\n"
          ]
        }
      ]
    },
    {
      "cell_type": "code",
      "source": [
        "df = pd.read_csv('cars24-car-price-clean.csv')\n",
        "df.head()"
      ],
      "metadata": {
        "colab": {
          "base_uri": "https://localhost:8080/",
          "height": 243
        },
        "id": "m11IYSDs3Xzy",
        "outputId": "615922ad-1791-4ca4-c498-addbf61b7c76"
      },
      "execution_count": null,
      "outputs": [
        {
          "output_type": "execute_result",
          "data": {
            "text/plain": [
              "   selling_price      year  km_driven   mileage    engine  max_power  \\\n",
              "0      -1.111046 -0.801317   1.195828  0.045745 -1.310754  -1.157780   \n",
              "1      -0.223944  0.450030  -0.737872 -0.140402 -0.537456  -0.360203   \n",
              "2      -0.915058 -1.426990   0.035608 -0.582501 -0.537456  -0.404885   \n",
              "3      -0.892365 -0.801317  -0.409143  0.329620 -0.921213  -0.693085   \n",
              "4      -0.182683  0.137194  -0.544502  0.760085  0.042999   0.010435   \n",
              "\n",
              "        age      make     model  Individual  Trustmark Dealer    Diesel  \\\n",
              "0  0.801317 -0.433854 -1.125683    1.248892         -0.098382 -0.985275   \n",
              "1 -0.450030 -0.327501 -0.333227    1.248892         -0.098382 -0.985275   \n",
              "2  1.426990 -0.327501 -0.789807    1.248892         -0.098382 -0.985275   \n",
              "3  0.801317 -0.433854 -0.905265    1.248892         -0.098382 -0.985275   \n",
              "4 -0.137194 -0.246579 -0.013096   -0.800710         -0.098382  1.014945   \n",
              "\n",
              "   Electric       LPG    Petrol    Manual         5        >5  \n",
              "0 -0.020095 -0.056917  1.024622  0.495818  0.444503 -0.424728  \n",
              "1 -0.020095 -0.056917  1.024622  0.495818  0.444503 -0.424728  \n",
              "2 -0.020095 -0.056917  1.024622  0.495818  0.444503 -0.424728  \n",
              "3 -0.020095 -0.056917  1.024622  0.495818  0.444503 -0.424728  \n",
              "4 -0.020095 -0.056917 -0.975970  0.495818  0.444503 -0.424728  "
            ],
            "text/html": [
              "\n",
              "  <div id=\"df-9aaf5289-e7ac-42ed-aca6-95a9495fc19b\" class=\"colab-df-container\">\n",
              "    <div>\n",
              "<style scoped>\n",
              "    .dataframe tbody tr th:only-of-type {\n",
              "        vertical-align: middle;\n",
              "    }\n",
              "\n",
              "    .dataframe tbody tr th {\n",
              "        vertical-align: top;\n",
              "    }\n",
              "\n",
              "    .dataframe thead th {\n",
              "        text-align: right;\n",
              "    }\n",
              "</style>\n",
              "<table border=\"1\" class=\"dataframe\">\n",
              "  <thead>\n",
              "    <tr style=\"text-align: right;\">\n",
              "      <th></th>\n",
              "      <th>selling_price</th>\n",
              "      <th>year</th>\n",
              "      <th>km_driven</th>\n",
              "      <th>mileage</th>\n",
              "      <th>engine</th>\n",
              "      <th>max_power</th>\n",
              "      <th>age</th>\n",
              "      <th>make</th>\n",
              "      <th>model</th>\n",
              "      <th>Individual</th>\n",
              "      <th>Trustmark Dealer</th>\n",
              "      <th>Diesel</th>\n",
              "      <th>Electric</th>\n",
              "      <th>LPG</th>\n",
              "      <th>Petrol</th>\n",
              "      <th>Manual</th>\n",
              "      <th>5</th>\n",
              "      <th>&gt;5</th>\n",
              "    </tr>\n",
              "  </thead>\n",
              "  <tbody>\n",
              "    <tr>\n",
              "      <th>0</th>\n",
              "      <td>-1.111046</td>\n",
              "      <td>-0.801317</td>\n",
              "      <td>1.195828</td>\n",
              "      <td>0.045745</td>\n",
              "      <td>-1.310754</td>\n",
              "      <td>-1.157780</td>\n",
              "      <td>0.801317</td>\n",
              "      <td>-0.433854</td>\n",
              "      <td>-1.125683</td>\n",
              "      <td>1.248892</td>\n",
              "      <td>-0.098382</td>\n",
              "      <td>-0.985275</td>\n",
              "      <td>-0.020095</td>\n",
              "      <td>-0.056917</td>\n",
              "      <td>1.024622</td>\n",
              "      <td>0.495818</td>\n",
              "      <td>0.444503</td>\n",
              "      <td>-0.424728</td>\n",
              "    </tr>\n",
              "    <tr>\n",
              "      <th>1</th>\n",
              "      <td>-0.223944</td>\n",
              "      <td>0.450030</td>\n",
              "      <td>-0.737872</td>\n",
              "      <td>-0.140402</td>\n",
              "      <td>-0.537456</td>\n",
              "      <td>-0.360203</td>\n",
              "      <td>-0.450030</td>\n",
              "      <td>-0.327501</td>\n",
              "      <td>-0.333227</td>\n",
              "      <td>1.248892</td>\n",
              "      <td>-0.098382</td>\n",
              "      <td>-0.985275</td>\n",
              "      <td>-0.020095</td>\n",
              "      <td>-0.056917</td>\n",
              "      <td>1.024622</td>\n",
              "      <td>0.495818</td>\n",
              "      <td>0.444503</td>\n",
              "      <td>-0.424728</td>\n",
              "    </tr>\n",
              "    <tr>\n",
              "      <th>2</th>\n",
              "      <td>-0.915058</td>\n",
              "      <td>-1.426990</td>\n",
              "      <td>0.035608</td>\n",
              "      <td>-0.582501</td>\n",
              "      <td>-0.537456</td>\n",
              "      <td>-0.404885</td>\n",
              "      <td>1.426990</td>\n",
              "      <td>-0.327501</td>\n",
              "      <td>-0.789807</td>\n",
              "      <td>1.248892</td>\n",
              "      <td>-0.098382</td>\n",
              "      <td>-0.985275</td>\n",
              "      <td>-0.020095</td>\n",
              "      <td>-0.056917</td>\n",
              "      <td>1.024622</td>\n",
              "      <td>0.495818</td>\n",
              "      <td>0.444503</td>\n",
              "      <td>-0.424728</td>\n",
              "    </tr>\n",
              "    <tr>\n",
              "      <th>3</th>\n",
              "      <td>-0.892365</td>\n",
              "      <td>-0.801317</td>\n",
              "      <td>-0.409143</td>\n",
              "      <td>0.329620</td>\n",
              "      <td>-0.921213</td>\n",
              "      <td>-0.693085</td>\n",
              "      <td>0.801317</td>\n",
              "      <td>-0.433854</td>\n",
              "      <td>-0.905265</td>\n",
              "      <td>1.248892</td>\n",
              "      <td>-0.098382</td>\n",
              "      <td>-0.985275</td>\n",
              "      <td>-0.020095</td>\n",
              "      <td>-0.056917</td>\n",
              "      <td>1.024622</td>\n",
              "      <td>0.495818</td>\n",
              "      <td>0.444503</td>\n",
              "      <td>-0.424728</td>\n",
              "    </tr>\n",
              "    <tr>\n",
              "      <th>4</th>\n",
              "      <td>-0.182683</td>\n",
              "      <td>0.137194</td>\n",
              "      <td>-0.544502</td>\n",
              "      <td>0.760085</td>\n",
              "      <td>0.042999</td>\n",
              "      <td>0.010435</td>\n",
              "      <td>-0.137194</td>\n",
              "      <td>-0.246579</td>\n",
              "      <td>-0.013096</td>\n",
              "      <td>-0.800710</td>\n",
              "      <td>-0.098382</td>\n",
              "      <td>1.014945</td>\n",
              "      <td>-0.020095</td>\n",
              "      <td>-0.056917</td>\n",
              "      <td>-0.975970</td>\n",
              "      <td>0.495818</td>\n",
              "      <td>0.444503</td>\n",
              "      <td>-0.424728</td>\n",
              "    </tr>\n",
              "  </tbody>\n",
              "</table>\n",
              "</div>\n",
              "    <div class=\"colab-df-buttons\">\n",
              "\n",
              "  <div class=\"colab-df-container\">\n",
              "    <button class=\"colab-df-convert\" onclick=\"convertToInteractive('df-9aaf5289-e7ac-42ed-aca6-95a9495fc19b')\"\n",
              "            title=\"Convert this dataframe to an interactive table.\"\n",
              "            style=\"display:none;\">\n",
              "\n",
              "  <svg xmlns=\"http://www.w3.org/2000/svg\" height=\"24px\" viewBox=\"0 -960 960 960\">\n",
              "    <path d=\"M120-120v-720h720v720H120Zm60-500h600v-160H180v160Zm220 220h160v-160H400v160Zm0 220h160v-160H400v160ZM180-400h160v-160H180v160Zm440 0h160v-160H620v160ZM180-180h160v-160H180v160Zm440 0h160v-160H620v160Z\"/>\n",
              "  </svg>\n",
              "    </button>\n",
              "\n",
              "  <style>\n",
              "    .colab-df-container {\n",
              "      display:flex;\n",
              "      gap: 12px;\n",
              "    }\n",
              "\n",
              "    .colab-df-convert {\n",
              "      background-color: #E8F0FE;\n",
              "      border: none;\n",
              "      border-radius: 50%;\n",
              "      cursor: pointer;\n",
              "      display: none;\n",
              "      fill: #1967D2;\n",
              "      height: 32px;\n",
              "      padding: 0 0 0 0;\n",
              "      width: 32px;\n",
              "    }\n",
              "\n",
              "    .colab-df-convert:hover {\n",
              "      background-color: #E2EBFA;\n",
              "      box-shadow: 0px 1px 2px rgba(60, 64, 67, 0.3), 0px 1px 3px 1px rgba(60, 64, 67, 0.15);\n",
              "      fill: #174EA6;\n",
              "    }\n",
              "\n",
              "    .colab-df-buttons div {\n",
              "      margin-bottom: 4px;\n",
              "    }\n",
              "\n",
              "    [theme=dark] .colab-df-convert {\n",
              "      background-color: #3B4455;\n",
              "      fill: #D2E3FC;\n",
              "    }\n",
              "\n",
              "    [theme=dark] .colab-df-convert:hover {\n",
              "      background-color: #434B5C;\n",
              "      box-shadow: 0px 1px 3px 1px rgba(0, 0, 0, 0.15);\n",
              "      filter: drop-shadow(0px 1px 2px rgba(0, 0, 0, 0.3));\n",
              "      fill: #FFFFFF;\n",
              "    }\n",
              "  </style>\n",
              "\n",
              "    <script>\n",
              "      const buttonEl =\n",
              "        document.querySelector('#df-9aaf5289-e7ac-42ed-aca6-95a9495fc19b button.colab-df-convert');\n",
              "      buttonEl.style.display =\n",
              "        google.colab.kernel.accessAllowed ? 'block' : 'none';\n",
              "\n",
              "      async function convertToInteractive(key) {\n",
              "        const element = document.querySelector('#df-9aaf5289-e7ac-42ed-aca6-95a9495fc19b');\n",
              "        const dataTable =\n",
              "          await google.colab.kernel.invokeFunction('convertToInteractive',\n",
              "                                                    [key], {});\n",
              "        if (!dataTable) return;\n",
              "\n",
              "        const docLinkHtml = 'Like what you see? Visit the ' +\n",
              "          '<a target=\"_blank\" href=https://colab.research.google.com/notebooks/data_table.ipynb>data table notebook</a>'\n",
              "          + ' to learn more about interactive tables.';\n",
              "        element.innerHTML = '';\n",
              "        dataTable['output_type'] = 'display_data';\n",
              "        await google.colab.output.renderOutput(dataTable, element);\n",
              "        const docLink = document.createElement('div');\n",
              "        docLink.innerHTML = docLinkHtml;\n",
              "        element.appendChild(docLink);\n",
              "      }\n",
              "    </script>\n",
              "  </div>\n",
              "\n",
              "\n",
              "<div id=\"df-277c2b96-91ff-49f9-bc9e-dc7167f16c70\">\n",
              "  <button class=\"colab-df-quickchart\" onclick=\"quickchart('df-277c2b96-91ff-49f9-bc9e-dc7167f16c70')\"\n",
              "            title=\"Suggest charts\"\n",
              "            style=\"display:none;\">\n",
              "\n",
              "<svg xmlns=\"http://www.w3.org/2000/svg\" height=\"24px\"viewBox=\"0 0 24 24\"\n",
              "     width=\"24px\">\n",
              "    <g>\n",
              "        <path d=\"M19 3H5c-1.1 0-2 .9-2 2v14c0 1.1.9 2 2 2h14c1.1 0 2-.9 2-2V5c0-1.1-.9-2-2-2zM9 17H7v-7h2v7zm4 0h-2V7h2v10zm4 0h-2v-4h2v4z\"/>\n",
              "    </g>\n",
              "</svg>\n",
              "  </button>\n",
              "\n",
              "<style>\n",
              "  .colab-df-quickchart {\n",
              "      --bg-color: #E8F0FE;\n",
              "      --fill-color: #1967D2;\n",
              "      --hover-bg-color: #E2EBFA;\n",
              "      --hover-fill-color: #174EA6;\n",
              "      --disabled-fill-color: #AAA;\n",
              "      --disabled-bg-color: #DDD;\n",
              "  }\n",
              "\n",
              "  [theme=dark] .colab-df-quickchart {\n",
              "      --bg-color: #3B4455;\n",
              "      --fill-color: #D2E3FC;\n",
              "      --hover-bg-color: #434B5C;\n",
              "      --hover-fill-color: #FFFFFF;\n",
              "      --disabled-bg-color: #3B4455;\n",
              "      --disabled-fill-color: #666;\n",
              "  }\n",
              "\n",
              "  .colab-df-quickchart {\n",
              "    background-color: var(--bg-color);\n",
              "    border: none;\n",
              "    border-radius: 50%;\n",
              "    cursor: pointer;\n",
              "    display: none;\n",
              "    fill: var(--fill-color);\n",
              "    height: 32px;\n",
              "    padding: 0;\n",
              "    width: 32px;\n",
              "  }\n",
              "\n",
              "  .colab-df-quickchart:hover {\n",
              "    background-color: var(--hover-bg-color);\n",
              "    box-shadow: 0 1px 2px rgba(60, 64, 67, 0.3), 0 1px 3px 1px rgba(60, 64, 67, 0.15);\n",
              "    fill: var(--button-hover-fill-color);\n",
              "  }\n",
              "\n",
              "  .colab-df-quickchart-complete:disabled,\n",
              "  .colab-df-quickchart-complete:disabled:hover {\n",
              "    background-color: var(--disabled-bg-color);\n",
              "    fill: var(--disabled-fill-color);\n",
              "    box-shadow: none;\n",
              "  }\n",
              "\n",
              "  .colab-df-spinner {\n",
              "    border: 2px solid var(--fill-color);\n",
              "    border-color: transparent;\n",
              "    border-bottom-color: var(--fill-color);\n",
              "    animation:\n",
              "      spin 1s steps(1) infinite;\n",
              "  }\n",
              "\n",
              "  @keyframes spin {\n",
              "    0% {\n",
              "      border-color: transparent;\n",
              "      border-bottom-color: var(--fill-color);\n",
              "      border-left-color: var(--fill-color);\n",
              "    }\n",
              "    20% {\n",
              "      border-color: transparent;\n",
              "      border-left-color: var(--fill-color);\n",
              "      border-top-color: var(--fill-color);\n",
              "    }\n",
              "    30% {\n",
              "      border-color: transparent;\n",
              "      border-left-color: var(--fill-color);\n",
              "      border-top-color: var(--fill-color);\n",
              "      border-right-color: var(--fill-color);\n",
              "    }\n",
              "    40% {\n",
              "      border-color: transparent;\n",
              "      border-right-color: var(--fill-color);\n",
              "      border-top-color: var(--fill-color);\n",
              "    }\n",
              "    60% {\n",
              "      border-color: transparent;\n",
              "      border-right-color: var(--fill-color);\n",
              "    }\n",
              "    80% {\n",
              "      border-color: transparent;\n",
              "      border-right-color: var(--fill-color);\n",
              "      border-bottom-color: var(--fill-color);\n",
              "    }\n",
              "    90% {\n",
              "      border-color: transparent;\n",
              "      border-bottom-color: var(--fill-color);\n",
              "    }\n",
              "  }\n",
              "</style>\n",
              "\n",
              "  <script>\n",
              "    async function quickchart(key) {\n",
              "      const quickchartButtonEl =\n",
              "        document.querySelector('#' + key + ' button');\n",
              "      quickchartButtonEl.disabled = true;  // To prevent multiple clicks.\n",
              "      quickchartButtonEl.classList.add('colab-df-spinner');\n",
              "      try {\n",
              "        const charts = await google.colab.kernel.invokeFunction(\n",
              "            'suggestCharts', [key], {});\n",
              "      } catch (error) {\n",
              "        console.error('Error during call to suggestCharts:', error);\n",
              "      }\n",
              "      quickchartButtonEl.classList.remove('colab-df-spinner');\n",
              "      quickchartButtonEl.classList.add('colab-df-quickchart-complete');\n",
              "    }\n",
              "    (() => {\n",
              "      let quickchartButtonEl =\n",
              "        document.querySelector('#df-277c2b96-91ff-49f9-bc9e-dc7167f16c70 button');\n",
              "      quickchartButtonEl.style.display =\n",
              "        google.colab.kernel.accessAllowed ? 'block' : 'none';\n",
              "    })();\n",
              "  </script>\n",
              "</div>\n",
              "\n",
              "    </div>\n",
              "  </div>\n"
            ],
            "application/vnd.google.colaboratory.intrinsic+json": {
              "type": "dataframe",
              "variable_name": "df",
              "summary": "{\n  \"name\": \"df\",\n  \"rows\": 19820,\n  \"fields\": [\n    {\n      \"column\": \"selling_price\",\n      \"properties\": {\n        \"dtype\": \"number\",\n        \"std\": 1.000025227998042,\n        \"min\": -1.2967184783736836,\n        \"max\": 2.953636494022545,\n        \"num_unique_values\": 964,\n        \"samples\": [\n          -1.0966046900846724,\n          2.9221753056575284,\n          0.6466545996494959\n        ],\n        \"semantic_type\": \"\",\n        \"description\": \"\"\n      }\n    },\n    {\n      \"column\": \"year\",\n      \"properties\": {\n        \"dtype\": \"number\",\n        \"std\": 1.0000252279980357,\n        \"min\": -7.058050669336456,\n        \"max\": 2.0142138122928364,\n        \"num_unique_values\": 27,\n        \"samples\": [\n          -0.1756431315487169,\n          1.7013771060297571,\n          -1.114153250337954\n        ],\n        \"semantic_type\": \"\",\n        \"description\": \"\"\n      }\n    },\n    {\n      \"column\": \"km_driven\",\n      \"properties\": {\n        \"dtype\": \"number\",\n        \"std\": 1.0000252279980275,\n        \"min\": -1.1226784261830776,\n        \"max\": 72.35599712942987,\n        \"num_unique_values\": 4476,\n        \"samples\": [\n          1.518756106540607,\n          0.4068784664848833,\n          0.6109805271942427\n        ],\n        \"semantic_type\": \"\",\n        \"description\": \"\"\n      }\n    },\n    {\n      \"column\": \"mileage\",\n      \"properties\": {\n        \"dtype\": \"number\",\n        \"std\": 1.000025227998041,\n        \"min\": -3.6073926293699374,\n        \"max\": 23.38394396843033,\n        \"num_unique_values\": 532,\n        \"samples\": [\n          0.2342191570928419,\n          -2.4672413420490646,\n          -0.1869387674073179\n        ],\n        \"semantic_type\": \"\",\n        \"description\": \"\"\n      }\n    },\n    {\n      \"column\": \"engine\",\n      \"properties\": {\n        \"dtype\": \"number\",\n        \"std\": 1.0000252279980237,\n        \"min\": -2.845779992071435,\n        \"max\": 10.174939330091336,\n        \"num_unique_values\": 167,\n        \"samples\": [\n          -0.4506772968513284,\n          1.7033723895905872,\n          -2.812996782877601\n        ],\n        \"semantic_type\": \"\",\n        \"description\": \"\"\n      }\n    },\n    {\n      \"column\": \"max_power\",\n      \"properties\": {\n        \"dtype\": \"number\",\n        \"std\": 1.0000252279980473,\n        \"min\": -2.0804661368688278,\n        \"max\": 11.79334329235809,\n        \"num_unique_values\": 484,\n        \"samples\": [\n          -0.2972012920364724,\n          10.653948315078583,\n          0.1201300447396289\n        ],\n        \"semantic_type\": \"\",\n        \"description\": \"\"\n      }\n    },\n    {\n      \"column\": \"age\",\n      \"properties\": {\n        \"dtype\": \"number\",\n        \"std\": 1.0000252279980353,\n        \"min\": -2.0142138122928377,\n        \"max\": 7.058050669336454,\n        \"num_unique_values\": 27,\n        \"samples\": [\n          0.1756431315487155,\n          -1.701377106029759,\n          1.1141532503379528\n        ],\n        \"semantic_type\": \"\",\n        \"description\": \"\"\n      }\n    },\n    {\n      \"column\": \"make\",\n      \"properties\": {\n        \"dtype\": \"number\",\n        \"std\": 1.000025227997964,\n        \"min\": -1.2916194225397517,\n        \"max\": 3.3607734981578625,\n        \"num_unique_values\": 28,\n        \"samples\": [\n          0.7244753106436638,\n          -0.0847370249230741,\n          3.3607734981578625\n        ],\n        \"semantic_type\": \"\",\n        \"description\": \"\"\n      }\n    },\n    {\n      \"column\": \"model\",\n      \"properties\": {\n        \"dtype\": \"number\",\n        \"std\": 1.0000252279980466,\n        \"min\": -1.3093644088783905,\n        \"max\": 3.010305593731527,\n        \"num_unique_values\": 811,\n        \"samples\": [\n          0.5012128610771729,\n          -0.8233949735222015,\n          -0.8895204042510134\n        ],\n        \"semantic_type\": \"\",\n        \"description\": \"\"\n      }\n    },\n    {\n      \"column\": \"Individual\",\n      \"properties\": {\n        \"dtype\": \"number\",\n        \"std\": 1.0000252279980684,\n        \"min\": -0.800709712517256,\n        \"max\": 1.2488920570929742,\n        \"num_unique_values\": 2,\n        \"samples\": [\n          -0.800709712517256,\n          1.2488920570929742\n        ],\n        \"semantic_type\": \"\",\n        \"description\": \"\"\n      }\n    },\n    {\n      \"column\": \"Trustmark Dealer\",\n      \"properties\": {\n        \"dtype\": \"number\",\n        \"std\": 1.0000252279981352,\n        \"min\": -0.0983822273543098,\n        \"max\": 10.164437489290007,\n        \"num_unique_values\": 2,\n        \"samples\": [\n          10.164437489290007,\n          -0.0983822273543098\n        ],\n        \"semantic_type\": \"\",\n        \"description\": \"\"\n      }\n    },\n    {\n      \"column\": \"Diesel\",\n      \"properties\": {\n        \"dtype\": \"number\",\n        \"std\": 1.0000252279980546,\n        \"min\": -0.9852749008311416,\n        \"max\": 1.014945168253487,\n        \"num_unique_values\": 2,\n        \"samples\": [\n          1.014945168253487,\n          -0.9852749008311416\n        ],\n        \"semantic_type\": \"\",\n        \"description\": \"\"\n      }\n    },\n    {\n      \"column\": \"Electric\",\n      \"properties\": {\n        \"dtype\": \"number\",\n        \"std\": 1.0000252279979387,\n        \"min\": -0.0200946679342115,\n        \"max\": 49.76444513907494,\n        \"num_unique_values\": 2,\n        \"samples\": [\n          49.76444513907494,\n          -0.0200946679342115\n        ],\n        \"semantic_type\": \"\",\n        \"description\": \"\"\n      }\n    },\n    {\n      \"column\": \"LPG\",\n      \"properties\": {\n        \"dtype\": \"number\",\n        \"std\": 1.0000252279981723,\n        \"min\": -0.0569168004237751,\n        \"max\": 17.569504830814097,\n        \"num_unique_values\": 2,\n        \"samples\": [\n          17.569504830814097,\n          -0.0569168004237751\n        ],\n        \"semantic_type\": \"\",\n        \"description\": \"\"\n      }\n    },\n    {\n      \"column\": \"Petrol\",\n      \"properties\": {\n        \"dtype\": \"number\",\n        \"std\": 1.0000252279979385,\n        \"min\": -0.9759697707407052,\n        \"max\": 1.0246218991404383,\n        \"num_unique_values\": 2,\n        \"samples\": [\n          -0.9759697707407052,\n          1.0246218991404383\n        ],\n        \"semantic_type\": \"\",\n        \"description\": \"\"\n      }\n    },\n    {\n      \"column\": \"Manual\",\n      \"properties\": {\n        \"dtype\": \"number\",\n        \"std\": 1.0000252279981021,\n        \"min\": -2.0168682670789857,\n        \"max\": 0.4958182030640464,\n        \"num_unique_values\": 2,\n        \"samples\": [\n          -2.0168682670789857,\n          0.4958182030640464\n        ],\n        \"semantic_type\": \"\",\n        \"description\": \"\"\n      }\n    },\n    {\n      \"column\": \"5\",\n      \"properties\": {\n        \"dtype\": \"number\",\n        \"std\": 1.0000252279981767,\n        \"min\": -2.249702664689426,\n        \"max\": 0.4445031851078201,\n        \"num_unique_values\": 2,\n        \"samples\": [\n          -2.249702664689426,\n          0.4445031851078201\n        ],\n        \"semantic_type\": \"\",\n        \"description\": \"\"\n      }\n    },\n    {\n      \"column\": \">5\",\n      \"properties\": {\n        \"dtype\": \"number\",\n        \"std\": 1.000025227998063,\n        \"min\": -0.4247284530486916,\n        \"max\": 2.354445511766452,\n        \"num_unique_values\": 2,\n        \"samples\": [\n          2.354445511766452,\n          -0.4247284530486916\n        ],\n        \"semantic_type\": \"\",\n        \"description\": \"\"\n      }\n    }\n  ]\n}"
            }
          },
          "metadata": {},
          "execution_count": 17
        }
      ]
    },
    {
      "cell_type": "code",
      "source": [
        "# define X and y\n",
        "X = df.drop('selling_price', axis=1)\n",
        "y = df[\"selling_price\"]\n",
        "from sklearn.model_selection import train_test_split\n",
        "X_train, X_test, y_train, y_test = train_test_split(X, y, test_size=0.2, random_state=10)\n"
      ],
      "metadata": {
        "id": "e3gGGHBy3Z33"
      },
      "execution_count": null,
      "outputs": []
    },
    {
      "cell_type": "code",
      "source": [
        "lr = LinearRegression(iterations=100)\n",
        "lr.fit(X_train, y_train)"
      ],
      "metadata": {
        "colab": {
          "base_uri": "https://localhost:8080/"
        },
        "id": "AL1RZ5wT3eiW",
        "outputId": "cc3d3af4-65df-43c6-9d56-373ddf9b0570"
      },
      "execution_count": null,
      "outputs": [
        {
          "output_type": "execute_result",
          "data": {
            "text/plain": [
              "<__main__.LinearRegression at 0x78b68497f880>"
            ]
          },
          "metadata": {},
          "execution_count": 19
        }
      ]
    },
    {
      "cell_type": "code",
      "source": [
        "lr.predict(X_test)"
      ],
      "metadata": {
        "colab": {
          "base_uri": "https://localhost:8080/"
        },
        "id": "XTtN73dS3kcn",
        "outputId": "13c14f91-f0eb-42fc-c125-1baa2a81c6fe"
      },
      "execution_count": null,
      "outputs": [
        {
          "output_type": "execute_result",
          "data": {
            "text/plain": [
              "array([-0.84308986, -0.27745439,  2.44849382, ...,  0.65540967,\n",
              "       -0.54931517,  0.10246191])"
            ]
          },
          "metadata": {},
          "execution_count": 20
        }
      ]
    },
    {
      "cell_type": "code",
      "source": [
        "lr.score(X_train, y_train)"
      ],
      "metadata": {
        "colab": {
          "base_uri": "https://localhost:8080/"
        },
        "id": "D_8TiK9-3pws",
        "outputId": "a6f1a12f-984a-43f8-87e6-a0406010b63e"
      },
      "execution_count": null,
      "outputs": [
        {
          "output_type": "execute_result",
          "data": {
            "text/plain": [
              "0.9101033692790105"
            ]
          },
          "metadata": {},
          "execution_count": 21
        }
      ]
    },
    {
      "cell_type": "code",
      "source": [
        "lr.W"
      ],
      "metadata": {
        "colab": {
          "base_uri": "https://localhost:8080/",
          "height": 617
        },
        "id": "GJkQeZaI3tcV",
        "outputId": "b0aa7428-f532-45b1-8f0d-d2b26bf53cfa"
      },
      "execution_count": null,
      "outputs": [
        {
          "output_type": "execute_result",
          "data": {
            "text/plain": [
              "year                0.125722\n",
              "km_driven          -0.047847\n",
              "mileage            -0.050197\n",
              "engine              0.093654\n",
              "max_power           0.154132\n",
              "age                -0.125722\n",
              "make                0.189528\n",
              "model               0.371064\n",
              "Individual         -0.025478\n",
              "Trustmark Dealer   -0.004997\n",
              "Diesel              0.045118\n",
              "Electric            0.016967\n",
              "LPG                 0.002790\n",
              "Petrol             -0.042832\n",
              "Manual             -0.105770\n",
              "5                  -0.005216\n",
              ">5                  0.003182\n",
              "dtype: float64"
            ],
            "text/html": [
              "<div>\n",
              "<style scoped>\n",
              "    .dataframe tbody tr th:only-of-type {\n",
              "        vertical-align: middle;\n",
              "    }\n",
              "\n",
              "    .dataframe tbody tr th {\n",
              "        vertical-align: top;\n",
              "    }\n",
              "\n",
              "    .dataframe thead th {\n",
              "        text-align: right;\n",
              "    }\n",
              "</style>\n",
              "<table border=\"1\" class=\"dataframe\">\n",
              "  <thead>\n",
              "    <tr style=\"text-align: right;\">\n",
              "      <th></th>\n",
              "      <th>0</th>\n",
              "    </tr>\n",
              "  </thead>\n",
              "  <tbody>\n",
              "    <tr>\n",
              "      <th>year</th>\n",
              "      <td>0.125722</td>\n",
              "    </tr>\n",
              "    <tr>\n",
              "      <th>km_driven</th>\n",
              "      <td>-0.047847</td>\n",
              "    </tr>\n",
              "    <tr>\n",
              "      <th>mileage</th>\n",
              "      <td>-0.050197</td>\n",
              "    </tr>\n",
              "    <tr>\n",
              "      <th>engine</th>\n",
              "      <td>0.093654</td>\n",
              "    </tr>\n",
              "    <tr>\n",
              "      <th>max_power</th>\n",
              "      <td>0.154132</td>\n",
              "    </tr>\n",
              "    <tr>\n",
              "      <th>age</th>\n",
              "      <td>-0.125722</td>\n",
              "    </tr>\n",
              "    <tr>\n",
              "      <th>make</th>\n",
              "      <td>0.189528</td>\n",
              "    </tr>\n",
              "    <tr>\n",
              "      <th>model</th>\n",
              "      <td>0.371064</td>\n",
              "    </tr>\n",
              "    <tr>\n",
              "      <th>Individual</th>\n",
              "      <td>-0.025478</td>\n",
              "    </tr>\n",
              "    <tr>\n",
              "      <th>Trustmark Dealer</th>\n",
              "      <td>-0.004997</td>\n",
              "    </tr>\n",
              "    <tr>\n",
              "      <th>Diesel</th>\n",
              "      <td>0.045118</td>\n",
              "    </tr>\n",
              "    <tr>\n",
              "      <th>Electric</th>\n",
              "      <td>0.016967</td>\n",
              "    </tr>\n",
              "    <tr>\n",
              "      <th>LPG</th>\n",
              "      <td>0.002790</td>\n",
              "    </tr>\n",
              "    <tr>\n",
              "      <th>Petrol</th>\n",
              "      <td>-0.042832</td>\n",
              "    </tr>\n",
              "    <tr>\n",
              "      <th>Manual</th>\n",
              "      <td>-0.105770</td>\n",
              "    </tr>\n",
              "    <tr>\n",
              "      <th>5</th>\n",
              "      <td>-0.005216</td>\n",
              "    </tr>\n",
              "    <tr>\n",
              "      <th>&gt;5</th>\n",
              "      <td>0.003182</td>\n",
              "    </tr>\n",
              "  </tbody>\n",
              "</table>\n",
              "</div><br><label><b>dtype:</b> float64</label>"
            ]
          },
          "metadata": {},
          "execution_count": 22
        }
      ]
    },
    {
      "cell_type": "code",
      "source": [
        "lr.b"
      ],
      "metadata": {
        "colab": {
          "base_uri": "https://localhost:8080/"
        },
        "id": "SUJ4r_FR39LV",
        "outputId": "d2a40254-98a5-463e-a32b-1ae184573cf3"
      },
      "execution_count": null,
      "outputs": [
        {
          "output_type": "execute_result",
          "data": {
            "text/plain": [
              "0.0011317414350942184"
            ]
          },
          "metadata": {},
          "execution_count": 23
        }
      ]
    },
    {
      "cell_type": "code",
      "source": [
        "%matplotlib inline\n",
        "fig = plt.figure()\n",
        "plt.plot(lr.error_list)\n",
        "plt.title(\"Reduction in error over time\")\n",
        "plt.xlabel(\"iteration\")\n",
        "plt.ylabel(\"Error\")\n",
        "plt.show()"
      ],
      "metadata": {
        "colab": {
          "base_uri": "https://localhost:8080/",
          "height": 472
        },
        "id": "6jX9Sw4x4FWv",
        "outputId": "a0b50169-4dd6-4cd0-87d8-2b298dee2fc9"
      },
      "execution_count": null,
      "outputs": [
        {
          "output_type": "display_data",
          "data": {
            "text/plain": [
              "<Figure size 640x480 with 1 Axes>"
            ],
            "image/png": "[encoded data removed]"
          },
          "metadata": {}
        }
      ]
    },
    {
      "cell_type": "code",
      "source": [
        "y_hat = lr.predict(X_test)\n",
        "m = len(y_test)\n",
        "d = X_test.shape[1]\n",
        "r2_score = lr.score(X_test, y_test)\n",
        "Adj_R = 1 - ((1-r2_score)*(m-1)/(m-20-1))\n",
        "print(\"Adjusted R-squared:\", Adj_R )"
      ],
      "metadata": {
        "colab": {
          "base_uri": "https://localhost:8080/"
        },
        "id": "1Ac9HE0Q4YKG",
        "outputId": "d1f4aa7d-32aa-4e78-9e58-3668959d28ec"
      },
      "execution_count": null,
      "outputs": [
        {
          "output_type": "stream",
          "name": "stdout",
          "text": [
            "Adjusted R-squared: 0.9070657462217404\n"
          ]
        }
      ]
    },
    {
      "cell_type": "code",
      "source": [],
      "metadata": {
        "id": "Z77NoIHm4uEJ"
      },
      "execution_count": null,
      "outputs": []
    }
  ]
}