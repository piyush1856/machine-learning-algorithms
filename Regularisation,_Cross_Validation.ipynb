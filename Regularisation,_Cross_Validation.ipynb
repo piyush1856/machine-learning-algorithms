{
  "nbformat": 4,
  "nbformat_minor": 0,
  "metadata": {
    "colab": {
      "provenance": [],
      "authorship_tag": "ABX9TyP6eJeXWlQ6ySgRAH2EY9ub",
      "include_colab_link": true
    },
    "kernelspec": {
      "name": "python3",
      "display_name": "Python 3"
    },
    "language_info": {
      "name": "python"
    }
  },
  "cells": [
    {
      "cell_type": "markdown",
      "metadata": {
        "id": "view-in-github",
        "colab_type": "text"
      },
      "source": [
        "<a href=\"https://colab.research.google.com/github/piyush1856/machine-learning-algorithms/blob/main/Regularisation%2C_Cross_Validation.ipynb\" target=\"_parent\"><img src=\"https://colab.research.google.com/assets/colab-badge.svg\" alt=\"Open In Colab\"/></a>"
      ]
    },
    {
      "cell_type": "code",
      "execution_count": 19,
      "metadata": {
        "id": "hhxi4Ut6gSr7"
      },
      "outputs": [],
      "source": [
        "from sklearn import datasets\n",
        "\n",
        "from sklearn.model_selection import train_test_split\n",
        "from sklearn.preprocessing import StandardScaler\n",
        "\n",
        "# Transform the features into polynomial features\n",
        "from sklearn.preprocessing import PolynomialFeatures\n",
        "\n",
        "from sklearn.linear_model import LinearRegression\n",
        "from sklearn.metrics import mean_squared_error\n",
        "\n",
        "from sklearn.linear_model import Lasso, Ridge\n"
      ]
    },
    {
      "cell_type": "code",
      "source": [
        "data = datasets.load_diabetes()\n",
        "X = data['data']\n",
        "y = data['target']"
      ],
      "metadata": {
        "id": "13WHoyubSogZ"
      },
      "execution_count": 4,
      "outputs": []
    },
    {
      "cell_type": "code",
      "source": [
        "# Split the data into training and testing sets\n",
        "X_train, X_test, y_train, y_test = train_test_split(X, y, test_size=0.2, random_state=42)"
      ],
      "metadata": {
        "id": "ULLWlmjhSuQm"
      },
      "execution_count": 11,
      "outputs": []
    },
    {
      "cell_type": "code",
      "source": [
        "# Transform the features into polynomial features\n",
        "degree = 8\n",
        "poly = PolynomialFeatures(degree=degree)\n",
        "X_train_poly = poly.fit_transform(X_train)\n",
        "X_test_poly = poly.transform(X_test)"
      ],
      "metadata": {
        "id": "rvR0j1d9TO8p"
      },
      "execution_count": 12,
      "outputs": []
    },
    {
      "cell_type": "code",
      "source": [
        "# Standardize the polynomial features\n",
        "scaler = StandardScaler()\n",
        "X_train_poly_scaled = scaler.fit_transform(X_train_poly)\n",
        "X_test_poly_scaled = scaler.transform(X_test_poly)"
      ],
      "metadata": {
        "id": "X3SDo5UQTUJ1"
      },
      "execution_count": 13,
      "outputs": []
    },
    {
      "cell_type": "code",
      "source": [
        "# Applying Linear Regression\n",
        "model = LinearRegression()\n",
        "model.fit(X_train_poly_scaled , y_train)\n",
        "\n",
        "output = model.predict(X_test_poly_scaled)"
      ],
      "metadata": {
        "id": "lWgMJGpRTgDh"
      },
      "execution_count": 15,
      "outputs": []
    },
    {
      "cell_type": "code",
      "source": [
        "print('MSE for test:', mean_squared_error(y_test, output))\n",
        "\n",
        "output = model.predict(X_train_poly_scaled)\n",
        "print('MSE for train:', mean_squared_error(y_train, output))"
      ],
      "metadata": {
        "colab": {
          "base_uri": "https://localhost:8080/"
        },
        "id": "U_ndEWqHTq-i",
        "outputId": "7c70014b-ad53-440a-e230-eefe234cc0ba"
      },
      "execution_count": 17,
      "outputs": [
        {
          "output_type": "stream",
          "name": "stdout",
          "text": [
            "MSE for test: 89166.64996763924\n",
            "MSE for train: 2.3245323979556252e-24\n"
          ]
        }
      ]
    },
    {
      "cell_type": "code",
      "source": [
        "print(\"R^2 for train:\",model.score(X_train_poly_scaled,y_train))\n",
        "print('R^2 for test:',model.score(X_test_poly_scaled,y_test))"
      ],
      "metadata": {
        "colab": {
          "base_uri": "https://localhost:8080/"
        },
        "id": "wtpQvXWvT1Bm",
        "outputId": "80b10499-0786-4ed2-8de1-deb6995516d6"
      },
      "execution_count": 18,
      "outputs": [
        {
          "output_type": "stream",
          "name": "stdout",
          "text": [
            "R^2 for train: 1.0\n",
            "R^2 for test: -15.829765208707826\n"
          ]
        }
      ]
    },
    {
      "cell_type": "code",
      "source": [
        "lasso_model = Lasso(alpha=0.001)  # Alpha is the regularization strength\n",
        "ridge_model = Ridge(alpha=0.001)    # Alpha is the regularization strength\n",
        "\n",
        "\n",
        "# Fit the models to the training data\n",
        "lasso_model.fit(X_train_poly_scaled, y_train)\n",
        "ridge_model.fit(X_train_poly_scaled, y_train)\n",
        "\n",
        "lasso_predictions = lasso_model.predict(X_test_poly_scaled)\n",
        "ridge_predictions = ridge_model.predict(X_test_poly_scaled)\n",
        "\n",
        "print('test MSE for L1:', mean_squared_error(y_test, lasso_predictions))\n",
        "print('test MSE for L2:', mean_squared_error(y_test, ridge_predictions))"
      ],
      "metadata": {
        "colab": {
          "base_uri": "https://localhost:8080/"
        },
        "id": "BtvNFprfT409",
        "outputId": "ee1d79c2-8d14-4496-9312-0f67b8fd1df6"
      },
      "execution_count": 20,
      "outputs": [
        {
          "output_type": "stream",
          "name": "stderr",
          "text": [
            "/usr/local/lib/python3.10/dist-packages/sklearn/linear_model/_coordinate_descent.py:697: ConvergenceWarning: Objective did not converge. You might want to increase the number of iterations, check the scale of the features or consider increasing regularisation. Duality gap: 5.658e+03, tolerance: 2.145e+02\n",
            "  model = cd_fast.enet_coordinate_descent(\n"
          ]
        },
        {
          "output_type": "stream",
          "name": "stdout",
          "text": [
            "test MSE for L1: 56375.166621619835\n",
            "test MSE for L2: 89127.31439266077\n"
          ]
        }
      ]
    },
    {
      "cell_type": "code",
      "source": [
        "print(\"R^2 for lasso:\",lasso_model.score(X_test_poly_scaled,y_test))\n",
        "print('R^2 for ridge:',ridge_model.score(X_test_poly_scaled,y_test))\n"
      ],
      "metadata": {
        "colab": {
          "base_uri": "https://localhost:8080/"
        },
        "id": "VZE_8Z8kUUS8",
        "outputId": "52231a75-a74c-477a-cbcb-31c976553ea7"
      },
      "execution_count": 21,
      "outputs": [
        {
          "output_type": "stream",
          "name": "stdout",
          "text": [
            "R^2 for lasso: -9.640534529310903\n",
            "R^2 for ridge: -15.822340813023146\n"
          ]
        }
      ]
    },
    {
      "cell_type": "code",
      "source": [
        "lasso_model = Lasso(alpha=1e10)  # Alpha is the regularization strength\n",
        "ridge_model = Ridge(alpha=1e10)    # Alpha is the regularization strength\n",
        "\n",
        "# Fit the models to the training data\n",
        "lasso_model.fit(X_train_poly_scaled, y_train)\n",
        "ridge_model.fit(X_train_poly_scaled, y_train)\n",
        "\n",
        "lasso_predictions = lasso_model.predict(X_test_poly_scaled)\n",
        "ridge_predictions = ridge_model.predict(X_test_poly_scaled)\n",
        "\n",
        "print('test MSE for L1:', mean_squared_error(y_test, lasso_predictions))\n",
        "print('test MSE for L2:', mean_squared_error(y_test, ridge_predictions))\n",
        "\n",
        "print(\"R^2 for lasso:\",lasso_model.score(X_test_poly_scaled,y_test))\n",
        "print('R^2 for ridge:',ridge_model.score(X_test_poly_scaled,y_test))"
      ],
      "metadata": {
        "colab": {
          "base_uri": "https://localhost:8080/"
        },
        "id": "E0bjeMK7UVgt",
        "outputId": "677d2574-1c97-4616-8ba1-bd033a85fda4"
      },
      "execution_count": 22,
      "outputs": [
        {
          "output_type": "stream",
          "name": "stdout",
          "text": [
            "test MSE for L1: 5361.533457238513\n",
            "test MSE for L2: 5361.437117416974\n",
            "R^2 for lasso: -0.011962984778542296\n",
            "R^2 for ridge: -0.011944801112593773\n"
          ]
        }
      ]
    },
    {
      "cell_type": "code",
      "source": [
        "lasso_model = Lasso(alpha=1e1)  # Alpha is the regularization strength\n",
        "ridge_model = Ridge(alpha=1e3)    # Alpha is the regularization strength\n",
        "\n",
        "# Fit the models to the training data\n",
        "lasso_model.fit(X_train_poly_scaled, y_train)\n",
        "ridge_model.fit(X_train_poly_scaled, y_train)\n",
        "\n",
        "lasso_predictions = lasso_model.predict(X_test_poly_scaled)\n",
        "ridge_predictions = ridge_model.predict(X_test_poly_scaled)\n",
        "\n",
        "print('test MSE for L1:', mean_squared_error(y_test, lasso_predictions))\n",
        "print('test MSE for L2:', mean_squared_error(y_test, ridge_predictions))\n",
        "\n",
        "print(\"R^2 for lasso:\",lasso_model.score(X_test_poly_scaled,y_test))\n",
        "print('R^2 for ridge:',ridge_model.score(X_test_poly_scaled,y_test))"
      ],
      "metadata": {
        "colab": {
          "base_uri": "https://localhost:8080/"
        },
        "id": "9_LJMuN0UbhQ",
        "outputId": "7c96e92e-4c6c-4546-bb58-025c3c563699"
      },
      "execution_count": 23,
      "outputs": [
        {
          "output_type": "stream",
          "name": "stdout",
          "text": [
            "test MSE for L1: 2853.8774245650693\n",
            "test MSE for L2: 3999.5295195330687\n",
            "R^2 for lasso: 0.4613447179265656\n",
            "R^2 for ridge: 0.24510853796272003\n"
          ]
        }
      ]
    },
    {
      "cell_type": "code",
      "source": [
        "\n",
        "for x in list(sorted(lasso_model.coef_))[-5:]:\n",
        "  print(x)"
      ],
      "metadata": {
        "colab": {
          "base_uri": "https://localhost:8080/"
        },
        "id": "zV_8zIMEUgZi",
        "outputId": "095876e8-18d5-4e70-ed18-99d06165b035"
      },
      "execution_count": 24,
      "outputs": [
        {
          "output_type": "stream",
          "name": "stdout",
          "text": [
            "0.03119325702292312\n",
            "0.059234652226784916\n",
            "8.69849505554308\n",
            "16.443746022162834\n",
            "24.71578086484397\n"
          ]
        }
      ]
    },
    {
      "cell_type": "code",
      "source": [
        "for x in list(sorted(ridge_model.coef_))[-5:]:\n",
        "  print(x)"
      ],
      "metadata": {
        "colab": {
          "base_uri": "https://localhost:8080/"
        },
        "id": "POwqvNQzUl1i",
        "outputId": "85b536d9-967f-4e69-9f4a-fdb5f6a24c40"
      },
      "execution_count": 25,
      "outputs": [
        {
          "output_type": "stream",
          "name": "stdout",
          "text": [
            "1.7404475032992124\n",
            "1.7464030258011205\n",
            "1.767265174287819\n",
            "1.8284257869192457\n",
            "1.8891006596964048\n"
          ]
        }
      ]
    },
    {
      "cell_type": "code",
      "source": [
        "for x in list(sorted(model.coef_))[-5:]:\n",
        "  print(x)"
      ],
      "metadata": {
        "colab": {
          "base_uri": "https://localhost:8080/"
        },
        "id": "XoyDmPAkUoyU",
        "outputId": "15835683-7b39-4d33-ed4f-f66ffa1f4020"
      },
      "execution_count": 26,
      "outputs": [
        {
          "output_type": "stream",
          "name": "stdout",
          "text": [
            "13.648836555545829\n",
            "13.951869733255107\n",
            "14.443189363025661\n",
            "14.540439270552142\n",
            "16.45450571092179\n"
          ]
        }
      ]
    }
  ]
}