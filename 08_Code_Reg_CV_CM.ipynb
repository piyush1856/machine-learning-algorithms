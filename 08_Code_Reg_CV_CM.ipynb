{
  "cells": [
    {
      "cell_type": "markdown",
      "metadata": {
        "id": "view-in-github",
        "colab_type": "text"
      },
      "source": [
        "<a href=\"https://colab.research.google.com/github/piyush1856/machine-learning-algorithms/blob/main/_08_Code_Reg_CV_CM.ipynb\" target=\"_parent\"><img src=\"https://colab.research.google.com/assets/colab-badge.svg\" alt=\"Open In Colab\"/></a>"
      ]
    },
    {
      "cell_type": "markdown",
      "id": "2fc0365f",
      "metadata": {
        "id": "2fc0365f"
      },
      "source": [
        "# Regularisation"
      ]
    },
    {
      "cell_type": "code",
      "execution_count": null,
      "id": "734a6d59",
      "metadata": {
        "id": "734a6d59"
      },
      "outputs": [],
      "source": [
        "from sklearn import datasets\n",
        "from sklearn.preprocessing import PolynomialFeatures\n",
        "data = datasets.load_diabetes()"
      ]
    },
    {
      "cell_type": "code",
      "execution_count": null,
      "id": "81692b2d",
      "metadata": {
        "id": "81692b2d"
      },
      "outputs": [],
      "source": [
        "X = data['data']\n",
        "\n",
        "y = data['target']"
      ]
    },
    {
      "cell_type": "code",
      "execution_count": null,
      "id": "da74d778",
      "metadata": {
        "id": "da74d778"
      },
      "outputs": [],
      "source": [
        "from sklearn.model_selection import train_test_split\n",
        "from sklearn.preprocessing import StandardScaler"
      ]
    },
    {
      "cell_type": "code",
      "execution_count": null,
      "id": "8a75a0fe",
      "metadata": {
        "id": "8a75a0fe"
      },
      "outputs": [],
      "source": [
        "# Split the data into training and testing sets\n",
        "X_train, X_test, y_train, y_test = train_test_split(X, y, test_size=0.2, random_state=42)"
      ]
    },
    {
      "cell_type": "code",
      "execution_count": null,
      "id": "3667c4a1",
      "metadata": {
        "id": "3667c4a1"
      },
      "outputs": [],
      "source": [
        "# Transform the features into polynomial features\n",
        "degree = 25\n",
        "poly = PolynomialFeatures(degree=degree)\n",
        "X_train_poly = poly.fit_transform(X_train)\n",
        "X_test_poly = poly.transform(X_test)\n"
      ]
    },
    {
      "cell_type": "code",
      "execution_count": null,
      "id": "5a6e1a3f",
      "metadata": {
        "id": "5a6e1a3f"
      },
      "outputs": [],
      "source": [
        "# Standardize the polynomial features\n",
        "scaler = StandardScaler()\n",
        "X_train_poly_scaled = scaler.fit_transform(X_train_poly)\n",
        "X_test_poly_scaled = scaler.transform(X_test_poly)"
      ]
    },
    {
      "cell_type": "code",
      "execution_count": null,
      "id": "470b47d1",
      "metadata": {
        "id": "470b47d1"
      },
      "outputs": [],
      "source": [
        "from sklearn.linear_model import LinearRegression"
      ]
    },
    {
      "cell_type": "code",
      "execution_count": null,
      "id": "41f30d44",
      "metadata": {
        "id": "41f30d44"
      },
      "outputs": [],
      "source": [
        "model = LinearRegression()\n",
        "model.fit(X_train_poly_scaled , y_train)\n",
        "\n",
        "output = model.predict(X_test_poly_scaled)\n"
      ]
    },
    {
      "cell_type": "code",
      "execution_count": null,
      "id": "0de0fed9",
      "metadata": {
        "id": "0de0fed9"
      },
      "outputs": [],
      "source": [
        "from sklearn.metrics import mean_squared_error\n",
        "\n",
        "print('MSE for test:', mean_squared_error(y_test, output))\n",
        "\n",
        "output = model.predict(X_train_poly_scaled)\n",
        "print('MSE for train:', mean_squared_error(y_train, output))"
      ]
    },
    {
      "cell_type": "markdown",
      "id": "911cd180",
      "metadata": {
        "id": "911cd180"
      },
      "source": [
        "## Lasso and Ridge"
      ]
    },
    {
      "cell_type": "code",
      "execution_count": null,
      "id": "d713e019",
      "metadata": {
        "id": "d713e019"
      },
      "outputs": [],
      "source": [
        "from sklearn.linear_model import Lasso, Ridge"
      ]
    },
    {
      "cell_type": "code",
      "execution_count": null,
      "id": "c1410d69",
      "metadata": {
        "id": "c1410d69"
      },
      "outputs": [],
      "source": [
        "lasso_model = Lasso(alpha=0.01)  # Alpha is the regularization strength\n",
        "ridge_model = Ridge(alpha=1.0)    # Alpha is the regularization strength"
      ]
    },
    {
      "cell_type": "code",
      "execution_count": null,
      "id": "3c3bad49",
      "metadata": {
        "id": "3c3bad49"
      },
      "outputs": [],
      "source": [
        "# Fit the models to the training data\n",
        "lasso_model.fit(X_train_poly_scaled, y_train)\n",
        "ridge_model.fit(X_train_poly_scaled, y_train)"
      ]
    },
    {
      "cell_type": "code",
      "execution_count": null,
      "id": "20a37e7a",
      "metadata": {
        "id": "20a37e7a"
      },
      "outputs": [],
      "source": [
        "lasso_predictions = lasso_model.predict(X_test_poly_scaled)\n",
        "ridge_predictions = ridge_model.predict(X_test_poly_scaled)\n",
        "\n",
        "print('test MSE for L1:', mean_squared_error(y_test, lasso_predictions))\n",
        "print('test MSE for L2:', mean_squared_error(y_test, ridge_predictions))"
      ]
    },
    {
      "cell_type": "markdown",
      "id": "ee212015",
      "metadata": {
        "heading_collapsed": true,
        "id": "ee212015"
      },
      "source": [
        "# Hyperparameters\n"
      ]
    },
    {
      "cell_type": "code",
      "execution_count": null,
      "id": "1987b6b2",
      "metadata": {
        "hidden": true,
        "id": "1987b6b2"
      },
      "outputs": [],
      "source": [
        "import numpy as np\n",
        "import matplotlib.pyplot as plt\n",
        "\n",
        "# lets generate a dataset of 100 points\n",
        "np.random.seed(2)\n",
        "X = np.random.rand(1000,1)\n",
        "y = 0.7*(X**5) - \\\n",
        "    2.1*(X**4) + \\\n",
        "    2.3*(X**3) + \\\n",
        "    0.2*(X**2) + \\\n",
        "    0.3* X + \\\n",
        "    0.4*np.random.rand(1000,1)\n",
        "\n",
        "#0.8, 0.2 split\n",
        "from sklearn.model_selection import train_test_split\n",
        "X_train, X_test, y_train, y_test = train_test_split(X, y, test_size=0.2, random_state=1)"
      ]
    },
    {
      "cell_type": "code",
      "execution_count": null,
      "id": "f9e255d2",
      "metadata": {
        "hidden": true,
        "id": "f9e255d2"
      },
      "outputs": [],
      "source": [
        "from sklearn.preprocessing import PolynomialFeatures\n",
        "from sklearn.preprocessing import StandardScaler\n",
        "from sklearn.linear_model import Ridge\n",
        "from sklearn.pipeline import make_pipeline\n",
        "from sklearn.linear_model import LinearRegression"
      ]
    },
    {
      "cell_type": "code",
      "execution_count": null,
      "id": "95aebc3f",
      "metadata": {
        "hidden": true,
        "id": "95aebc3f"
      },
      "outputs": [],
      "source": [
        "def adj_r2(X, y, r2_score):\n",
        "  return 1 - ((1-r2_score)*(len(y)-1))/(len(y)-X.shape[1]-1)"
      ]
    },
    {
      "cell_type": "code",
      "execution_count": null,
      "id": "25e244e9",
      "metadata": {
        "hidden": true,
        "id": "25e244e9"
      },
      "outputs": [],
      "source": [
        "train_scores = []\n",
        "test_scores = []\n",
        "rate_list = [0.0001, 0.001, 0.01, 0.1, 1, 10]\n",
        "scaler = StandardScaler()\n",
        "for rate in rate_list:\n",
        "  polyreg_scaled = make_pipeline(PolynomialFeatures(10), scaler, Ridge(alpha=rate))\n",
        "  polyreg_scaled.fit(X_train, y_train)\n",
        "  train_score = polyreg_scaled.score(X_train, y_train)\n",
        "  test_score= polyreg_scaled.score(X_test, y_test)\n",
        "  train_scores.append(train_score)\n",
        "  test_scores.append(test_score)"
      ]
    },
    {
      "cell_type": "code",
      "execution_count": null,
      "id": "aa0beb3e",
      "metadata": {
        "hidden": true,
        "id": "aa0beb3e"
      },
      "outputs": [],
      "source": [
        "plt.figure(figsize=(5,5))\n",
        "plt.plot(rate_list, train_scores, label=\"train\")\n",
        "plt.plot(rate_list, test_scores, label=\"test\")\n",
        "plt.xlabel(\"lambda\")\n",
        "plt.ylabel(\"R-score\")\n",
        "plt.xscale(\"log\")\n",
        "plt.grid()\n",
        "plt.show()"
      ]
    },
    {
      "cell_type": "code",
      "execution_count": null,
      "id": "06de557c",
      "metadata": {
        "hidden": true,
        "id": "06de557c"
      },
      "outputs": [],
      "source": [
        "print(\"Best lambda:\", rate_list[np.argmax(test_scores)])"
      ]
    },
    {
      "cell_type": "markdown",
      "id": "a7940e25",
      "metadata": {
        "heading_collapsed": true,
        "id": "a7940e25"
      },
      "source": [
        "# Cross Validation"
      ]
    },
    {
      "cell_type": "code",
      "execution_count": null,
      "id": "6c22ddc7",
      "metadata": {
        "hidden": true,
        "id": "6c22ddc7"
      },
      "outputs": [],
      "source": [
        "# lets generate a dataset of 100 points\n",
        "np.random.seed(2)\n",
        "X = np.random.rand(1000,1)\n",
        "y = 0.7*(X**5) - \\\n",
        "    2.1*(X**4) + \\\n",
        "    2.3*(X**3) + \\\n",
        "    0.2*(X**2) + \\\n",
        "    0.3* X + \\\n",
        "    0.4*np.random.rand(1000,1)\n"
      ]
    },
    {
      "cell_type": "code",
      "execution_count": null,
      "id": "c7e3a8a9",
      "metadata": {
        "hidden": true,
        "id": "c7e3a8a9"
      },
      "outputs": [],
      "source": [
        "#0.6, 0.2, 0.2 split\n",
        "from sklearn.model_selection import train_test_split\n",
        "X_tr_cv, X_test, y_tr_cv, y_test = train_test_split(X, y, test_size=0.2, random_state=1)\n",
        "X_train, X_val, y_train, y_val = train_test_split(X_tr_cv, y_tr_cv, test_size=0.25,random_state=1)"
      ]
    },
    {
      "cell_type": "code",
      "execution_count": null,
      "id": "8edae54d",
      "metadata": {
        "hidden": true,
        "id": "8edae54d"
      },
      "outputs": [],
      "source": [
        "X_train.shape, X_val.shape, X_test.shape"
      ]
    },
    {
      "cell_type": "code",
      "execution_count": null,
      "id": "37130e89",
      "metadata": {
        "hidden": true,
        "id": "37130e89"
      },
      "outputs": [],
      "source": [
        "plt.figure(figsize=(18,5))\n",
        "data_labels = [\"Training Data\", \"Validation Data\", \"Test Data\" ]\n",
        "x_labels = [X_train, X_val, X_test]\n",
        "y_labels = [y_train, y_val, y_test]\n",
        "for i in range(3):\n",
        "  plt.subplot(1, 3, i+1)\n",
        "  plt.scatter(x_labels[i], y_labels[i])\n",
        "  plt.xlabel(\"x\")\n",
        "  plt.ylabel(\"y\")\n",
        "  plt.title(data_labels[i])"
      ]
    },
    {
      "cell_type": "code",
      "execution_count": null,
      "id": "d11c2267",
      "metadata": {
        "hidden": true,
        "id": "d11c2267"
      },
      "outputs": [],
      "source": [
        "# Same as we did earlier and in the last lecture\n",
        "max_degree = 25 # max polynomial degree\n",
        "train_scores = []\n",
        "val_scores = []\n",
        "scaler = StandardScaler()\n",
        "for degree in range(1, max_degree):\n",
        "    polyreg_scaled = make_pipeline(PolynomialFeatures(degree), scaler, Ridge())\n",
        "    polyreg_scaled.fit(X_train, y_train)\n",
        "    train_score = adj_r2(X_train, y_train, polyreg_scaled.score(X_train, y_train))\n",
        "    val_score= adj_r2(X_val, y_val, polyreg_scaled.score(X_val, y_val))\n",
        "    train_scores.append(train_score)\n",
        "    val_scores.append(val_score)\n",
        "plt.figure()\n",
        "plt.plot(list(range(1, 25)), train_scores, label=\"train\")\n",
        "plt.plot(list(range(1, 25)), val_scores, label=\"val\")\n",
        "plt.legend(loc='lower right')\n",
        "plt.xlabel(\"degree\")\n",
        "plt.ylabel(\"adj. R-score\")\n",
        "plt.grid()\n",
        "plt.show()"
      ]
    },
    {
      "cell_type": "code",
      "execution_count": null,
      "id": "80bf473f",
      "metadata": {
        "hidden": true,
        "id": "80bf473f"
      },
      "outputs": [],
      "source": []
    },
    {
      "cell_type": "code",
      "execution_count": null,
      "id": "d36c7fec",
      "metadata": {
        "hidden": true,
        "id": "d36c7fec"
      },
      "outputs": [],
      "source": [
        "train_scores = []\n",
        "val_scores = []\n",
        "rate_list = [0.01, 0.1, 1,5, 10]\n",
        "for rate in rate_list:\n",
        "    polyreg_scaled = make_pipeline(PolynomialFeatures(3), scaler, Ridge(alpha=rate))\n",
        "    polyreg_scaled.fit(X_train, y_train)\n",
        "    train_score = adj_r2(X_train, y_train, polyreg_scaled.score(X_train, y_train))\n",
        "    val_score= adj_r2(X_val, y_val, polyreg_scaled.score(X_val, y_val))\n",
        "    train_scores.append(train_score)\n",
        "    val_scores.append(val_score)"
      ]
    },
    {
      "cell_type": "code",
      "execution_count": null,
      "id": "1d90833a",
      "metadata": {
        "hidden": true,
        "id": "1d90833a"
      },
      "outputs": [],
      "source": [
        "plt.figure()\n",
        "plt.plot(rate_list, train_scores, label=\"train\")\n",
        "plt.plot(rate_list, val_scores, label=\"val\")\n",
        "plt.legend(loc='lower right')\n",
        "plt.xlabel(\"lambda\")\n",
        "plt.ylabel(\"adj. R-score\")\n",
        "plt.grid()\n",
        "plt.show()"
      ]
    },
    {
      "cell_type": "code",
      "execution_count": null,
      "id": "1e98726d",
      "metadata": {
        "hidden": true,
        "id": "1e98726d"
      },
      "outputs": [],
      "source": [
        "polyreg_scaled = make_pipeline(PolynomialFeatures(3), scaler, Ridge(alpha=0.01))\n",
        "polyreg_scaled.fit(X_train, y_train)\n",
        "train_score = adj_r2(X_train, y_train, polyreg_scaled.score(X_train, y_train))\n",
        "print(f'Training Score = {train_score}')\n",
        "val_score = adj_r2(X_val, y_val, polyreg_scaled.score(X_val, y_val))\n",
        "print(f'Validation Score = {val_score}')"
      ]
    },
    {
      "cell_type": "code",
      "execution_count": null,
      "id": "548e5146",
      "metadata": {
        "hidden": true,
        "id": "548e5146"
      },
      "outputs": [],
      "source": [
        "# Reporting this as the final score\n",
        "test_score = adj_r2(X_test, y_test, polyreg_scaled.score(X_test, y_test))\n",
        "print(f'Testing Score = {test_score}')"
      ]
    },
    {
      "cell_type": "code",
      "execution_count": null,
      "id": "e5b77cc0",
      "metadata": {
        "hidden": true,
        "id": "e5b77cc0"
      },
      "outputs": [],
      "source": []
    },
    {
      "cell_type": "code",
      "execution_count": null,
      "id": "4d00e257",
      "metadata": {
        "hidden": true,
        "id": "4d00e257"
      },
      "outputs": [],
      "source": [
        "# Creating a small dataset of 100 data points\n",
        "np.random.seed(2)\n",
        "X = np.random.rand(100,1)\n",
        "y = 0.7*(X**5) - \\\n",
        "    2.1*(X**4) + \\\n",
        "    2.3*(X**3) + \\\n",
        "    0.2*(X**2) + \\\n",
        "    0.3* X + \\\n",
        "    0.4*np.random.rand(100,1)"
      ]
    },
    {
      "cell_type": "code",
      "execution_count": null,
      "id": "55b5ff65",
      "metadata": {
        "hidden": true,
        "id": "55b5ff65"
      },
      "outputs": [],
      "source": [
        "from sklearn.model_selection import KFold\n",
        "kf = KFold(n_splits=10)"
      ]
    },
    {
      "cell_type": "code",
      "execution_count": null,
      "id": "f85d8c1c",
      "metadata": {
        "hidden": true,
        "id": "f85d8c1c"
      },
      "outputs": [],
      "source": [
        "# Performing k-fold cross validation\n",
        "degrees = 15 # number of degrees\n",
        "train_scores = []\n",
        "val_scores = []\n",
        "\n",
        "for degree in range(1, degrees):\n",
        "    fold_train_scores = []\n",
        "    fold_val_scores = []\n",
        "\n",
        "    for train_index, val_index in kf.split(X): #iterating through the K-folds\n",
        "\n",
        "        X_train, X_val = X[train_index], X[val_index]\n",
        "        y_train, y_val = y[train_index], y[val_index]\n",
        "\n",
        "        polyreg_scaled = make_pipeline(PolynomialFeatures(degree), scaler, LinearRegression())\n",
        "        polyreg_scaled.fit(X_train, y_train) #training model\n",
        "\n",
        "        train_score = adj_r2(X_train, y_train, polyreg_scaled.score(X_train, y_train))\n",
        "        val_score= adj_r2(X_val, y_val, polyreg_scaled.score(X_val, y_val))\n",
        "\n",
        "        fold_train_scores.append(train_score)\n",
        "        fold_val_scores.append(val_score)\n",
        "\n",
        "    train_score = np.mean(fold_train_scores)\n",
        "    val_score = np.mean(fold_val_scores)\n",
        "\n",
        "    train_scores.append(train_score)\n",
        "    val_scores.append(val_score)"
      ]
    },
    {
      "cell_type": "code",
      "execution_count": null,
      "id": "81f54fe0",
      "metadata": {
        "hidden": true,
        "id": "81f54fe0"
      },
      "outputs": [],
      "source": [
        "plt.figure()\n",
        "plt.plot(list(range(1, 15)), train_scores, label=\"train\")\n",
        "plt.plot(list(range(1, 15)), val_scores, label=\"val\")\n",
        "plt.legend(loc='lower right')\n",
        "plt.xlabel(\"degree\")\n",
        "plt.ylabel(\"Average R2 score\")\n",
        "plt.show()"
      ]
    },
    {
      "cell_type": "code",
      "execution_count": null,
      "id": "ad010d92",
      "metadata": {
        "hidden": true,
        "id": "ad010d92"
      },
      "outputs": [],
      "source": []
    },
    {
      "cell_type": "code",
      "execution_count": null,
      "id": "c435ecc2",
      "metadata": {
        "hidden": true,
        "id": "c435ecc2"
      },
      "outputs": [],
      "source": [
        "!gdown 1uUt7uL-VuF_5cpodYRiriEwhsldeEp3m"
      ]
    },
    {
      "cell_type": "code",
      "execution_count": null,
      "id": "069222a5",
      "metadata": {
        "hidden": true,
        "id": "069222a5"
      },
      "outputs": [],
      "source": [
        "import pandas as pd\n",
        "churn = pd.read_csv(\"churn_logistic.csv\")\n",
        "churn.head()"
      ]
    },
    {
      "cell_type": "code",
      "execution_count": null,
      "id": "87af16e4",
      "metadata": {
        "hidden": true,
        "id": "87af16e4"
      },
      "outputs": [],
      "source": [
        "churn['Churn'].value_counts()"
      ]
    },
    {
      "cell_type": "code",
      "execution_count": null,
      "id": "48797277",
      "metadata": {
        "hidden": true,
        "id": "48797277"
      },
      "outputs": [],
      "source": [
        "def sigmoid(x):\n",
        "    return 1/(1+np.e**-x)"
      ]
    },
    {
      "cell_type": "code",
      "execution_count": null,
      "id": "3457f1f1",
      "metadata": {
        "hidden": true,
        "id": "3457f1f1"
      },
      "outputs": [],
      "source": [
        "x = np.linspace(-10, 10, 100) # 100 equidistant points between -10 and 10\n",
        "y = sigmoid(x)\n",
        "plt.plot(x, y)\n",
        "plt.xlabel(\"x\")\n",
        "plt.ylabel(\"Sigmoid(X)\")\n",
        "plt.grid()\n",
        "plt.show()"
      ]
    },
    {
      "cell_type": "code",
      "execution_count": null,
      "id": "3b734a0f",
      "metadata": {
        "hidden": true,
        "id": "3b734a0f"
      },
      "outputs": [],
      "source": [
        "# Loss for a single point\n",
        "def log_loss(y, y_hat):\n",
        "  loss = y*np.log(y_hat)+(1-y)*np.log(1-y_hat)\n",
        "  return -loss"
      ]
    },
    {
      "cell_type": "code",
      "execution_count": null,
      "id": "960efd6b",
      "metadata": {
        "hidden": true,
        "id": "960efd6b"
      },
      "outputs": [],
      "source": [
        "# Case 1, yi=1, high pi\n",
        "log_loss(1, 0.99)"
      ]
    },
    {
      "cell_type": "code",
      "execution_count": null,
      "id": "70a7b0af",
      "metadata": {
        "hidden": true,
        "id": "70a7b0af"
      },
      "outputs": [],
      "source": [
        "# Case 2, yi = 1, pi =0.5\n",
        "\n",
        "log_loss(1, 0.5)"
      ]
    },
    {
      "cell_type": "code",
      "execution_count": null,
      "id": "d2462900",
      "metadata": {
        "hidden": true,
        "id": "d2462900"
      },
      "outputs": [],
      "source": [
        "# Case 3, yi = 1, low pi\n",
        "\n",
        "log_loss(1, 0.1)"
      ]
    },
    {
      "cell_type": "code",
      "execution_count": null,
      "id": "9f0c88d9",
      "metadata": {
        "hidden": true,
        "id": "9f0c88d9"
      },
      "outputs": [],
      "source": []
    },
    {
      "cell_type": "code",
      "execution_count": null,
      "id": "6559a586",
      "metadata": {
        "hidden": true,
        "id": "6559a586"
      },
      "outputs": [],
      "source": [
        "#Churn prediction in telecom.\n",
        "import numpy as np\n",
        "import matplotlib.pyplot as plt"
      ]
    },
    {
      "cell_type": "code",
      "execution_count": null,
      "id": "3cdf1900",
      "metadata": {
        "hidden": true,
        "id": "3cdf1900"
      },
      "outputs": [],
      "source": [
        "\n",
        "!gdown 1uUt7uL-VuF_5cpodYRiriEwhsldeEp3m"
      ]
    },
    {
      "cell_type": "code",
      "execution_count": null,
      "id": "584230b0",
      "metadata": {
        "hidden": true,
        "id": "584230b0"
      },
      "outputs": [],
      "source": [
        "import pandas as pd\n",
        "churn = pd.read_csv(\"churn_logistic.csv\")\n",
        "churn.head()"
      ]
    },
    {
      "cell_type": "code",
      "execution_count": null,
      "id": "f6278678",
      "metadata": {
        "hidden": true,
        "id": "f6278678"
      },
      "outputs": [],
      "source": [
        "cols = ['Day Mins', 'Eve Mins', 'Night Mins', 'CustServ Calls', 'Account Length']\n",
        "y = churn[\"Churn\"]\n",
        "X = churn[cols]\n",
        "X.shape"
      ]
    },
    {
      "cell_type": "code",
      "execution_count": null,
      "id": "acde3bdf",
      "metadata": {
        "hidden": true,
        "id": "acde3bdf"
      },
      "outputs": [],
      "source": [
        "from sklearn.model_selection import train_test_split\n",
        "\n",
        "X_tr_cv, X_test, y_tr_cv, y_test = train_test_split(X, y, test_size=0.2, random_state=1)\n",
        "X_train, X_val, y_train, y_val = train_test_split(X_tr_cv, y_tr_cv, test_size=0.25,random_state=1)\n",
        "X_train.shape"
      ]
    },
    {
      "cell_type": "code",
      "execution_count": null,
      "id": "a619e831",
      "metadata": {
        "hidden": true,
        "id": "a619e831"
      },
      "outputs": [],
      "source": [
        "from sklearn.preprocessing import StandardScaler\n",
        "scaler = StandardScaler()\n",
        "scaler.fit(X_train)\n",
        "\n",
        "X_train = scaler.transform(X_train)\n",
        "X_val = scaler.transform(X_val)\n",
        "X_test = scaler.transform(X_test)"
      ]
    },
    {
      "cell_type": "code",
      "execution_count": null,
      "id": "e83edc58",
      "metadata": {
        "hidden": true,
        "id": "e83edc58"
      },
      "outputs": [],
      "source": [
        "X_train"
      ]
    },
    {
      "cell_type": "code",
      "execution_count": null,
      "id": "e25e268a",
      "metadata": {
        "hidden": true,
        "id": "e25e268a"
      },
      "outputs": [],
      "source": [
        "from sklearn.linear_model import LogisticRegression\n",
        "model = LogisticRegression()\n",
        "model.fit(X_train, y_train)"
      ]
    },
    {
      "cell_type": "code",
      "execution_count": null,
      "id": "08b317fd",
      "metadata": {
        "hidden": true,
        "id": "08b317fd"
      },
      "outputs": [],
      "source": [
        "model.coef_"
      ]
    },
    {
      "cell_type": "code",
      "execution_count": null,
      "id": "e45b3423",
      "metadata": {
        "hidden": true,
        "id": "e45b3423"
      },
      "outputs": [],
      "source": [
        "model.intercept_"
      ]
    },
    {
      "cell_type": "code",
      "execution_count": null,
      "id": "2f00b4fa",
      "metadata": {
        "hidden": true,
        "id": "2f00b4fa"
      },
      "outputs": [],
      "source": [
        "model.predict(X_train)"
      ]
    },
    {
      "cell_type": "code",
      "execution_count": null,
      "id": "b09805c4",
      "metadata": {
        "hidden": true,
        "id": "b09805c4"
      },
      "outputs": [],
      "source": [
        "def accuracy(y_true, y_pred):\n",
        "    return np.sum(y_true==y_pred)/y_true.shape[0]"
      ]
    },
    {
      "cell_type": "code",
      "execution_count": null,
      "id": "6165e3ce",
      "metadata": {
        "hidden": true,
        "id": "6165e3ce"
      },
      "outputs": [],
      "source": [
        "accuracy(y_train, model.predict(X_train))"
      ]
    },
    {
      "cell_type": "code",
      "execution_count": null,
      "id": "25132bea",
      "metadata": {
        "hidden": true,
        "id": "25132bea"
      },
      "outputs": [],
      "source": [
        "accuracy(y_val, model.predict(X_val))"
      ]
    },
    {
      "cell_type": "markdown",
      "id": "13e36307",
      "metadata": {
        "hidden": true,
        "id": "13e36307"
      },
      "source": [
        "## Hyperparameter tuning\n"
      ]
    },
    {
      "cell_type": "code",
      "execution_count": null,
      "id": "baeee610",
      "metadata": {
        "hidden": true,
        "id": "baeee610"
      },
      "outputs": [],
      "source": [
        "from sklearn.pipeline import make_pipeline\n",
        "train_scores = []\n",
        "val_scores = []\n",
        "scaler = StandardScaler()\n",
        "for la in np.arange(0.01, 5000.0, 100): # range of values of Lambda\n",
        "    scaled_lr = make_pipeline(scaler, LogisticRegression(C=1/la))\n",
        "    scaled_lr.fit(X_train, y_train)\n",
        "    train_score = accuracy(y_train, scaled_lr.predict(X_train))\n",
        "    val_score = accuracy(y_val, scaled_lr.predict(X_val))\n",
        "    train_scores.append(train_score)\n",
        "    val_scores.append(val_score)"
      ]
    },
    {
      "cell_type": "code",
      "execution_count": null,
      "id": "5e4791e1",
      "metadata": {
        "hidden": true,
        "id": "5e4791e1"
      },
      "outputs": [],
      "source": [
        "plt.figure(figsize=(10,5))\n",
        "plt.plot(list(np.arange(0.01, 5000.0, 100)), train_scores, label=\"train\")\n",
        "plt.plot(list(np.arange(0.01, 5000.0, 100)), val_scores, label=\"val\")\n",
        "plt.legend(loc='lower right')\n",
        "\n",
        "plt.xlabel(\"Regularization Parameter(λ)\")\n",
        "plt.ylabel(\"Accuracy\")\n",
        "plt.grid()\n",
        "plt.show()"
      ]
    },
    {
      "cell_type": "code",
      "execution_count": null,
      "id": "0b551739",
      "metadata": {
        "hidden": true,
        "id": "0b551739"
      },
      "outputs": [],
      "source": [
        "model = LogisticRegression(C=1/1000)\n",
        "model.fit(X_train, y_train)"
      ]
    },
    {
      "cell_type": "code",
      "execution_count": null,
      "id": "7f68fbe4",
      "metadata": {
        "hidden": true,
        "id": "7f68fbe4"
      },
      "outputs": [],
      "source": [
        "accuracy(y_train, model.predict(X_train))"
      ]
    },
    {
      "cell_type": "code",
      "execution_count": null,
      "id": "0004285d",
      "metadata": {
        "hidden": true,
        "id": "0004285d"
      },
      "outputs": [],
      "source": [
        "accuracy(y_val, model.predict(X_val))"
      ]
    },
    {
      "cell_type": "code",
      "execution_count": null,
      "id": "4d1052dd",
      "metadata": {
        "hidden": true,
        "id": "4d1052dd"
      },
      "outputs": [],
      "source": [
        "accuracy(y_test, model.predict(X_test))"
      ]
    },
    {
      "cell_type": "code",
      "execution_count": null,
      "id": "ea2754d6",
      "metadata": {
        "hidden": true,
        "id": "ea2754d6"
      },
      "outputs": [],
      "source": []
    },
    {
      "cell_type": "markdown",
      "id": "5b237cba",
      "metadata": {
        "heading_collapsed": true,
        "id": "5b237cba"
      },
      "source": [
        "# Multi Class Classification"
      ]
    },
    {
      "cell_type": "code",
      "execution_count": null,
      "id": "34f7b33c",
      "metadata": {
        "hidden": true,
        "id": "34f7b33c"
      },
      "outputs": [],
      "source": [
        "import numpy as np\n",
        "import matplotlib.pyplot as plt\n",
        "import pandas as pd\n",
        "\n",
        "from sklearn.inspection import DecisionBoundaryDisplay"
      ]
    },
    {
      "cell_type": "code",
      "execution_count": null,
      "id": "e9d0744b",
      "metadata": {
        "hidden": true,
        "id": "e9d0744b"
      },
      "outputs": [],
      "source": [
        "# dataset creation with 3 classes\n",
        "from sklearn.datasets import make_classification\n",
        "\n",
        "X, y = make_classification(n_samples= 498,\n",
        "                           n_features= 2,\n",
        "                           n_classes = 3,\n",
        "                           n_redundant=0,\n",
        "                           n_clusters_per_class=1,\n",
        "                           random_state=5)\n",
        "y=y.reshape(len(y), 1)\n",
        "\n",
        "print(X.shape, y.shape)"
      ]
    },
    {
      "cell_type": "code",
      "execution_count": null,
      "id": "f6ed74cf",
      "metadata": {
        "hidden": true,
        "id": "f6ed74cf"
      },
      "outputs": [],
      "source": [
        "plt.scatter(X[:, 0], X[:, 1], c = y)\n",
        "plt.show()\n"
      ]
    },
    {
      "cell_type": "code",
      "execution_count": null,
      "id": "a74f3194",
      "metadata": {
        "hidden": true,
        "id": "a74f3194"
      },
      "outputs": [],
      "source": [
        "from sklearn.model_selection import train_test_split\n",
        "\n",
        "X_tr_cv, X_test, y_tr_cv, y_test = train_test_split(X, y, test_size=0.2, random_state=4)\n",
        "X_train, X_val, y_train, y_val = train_test_split(X_tr_cv, y_tr_cv, test_size=0.25,random_state=4)\n",
        "X_train.shape"
      ]
    },
    {
      "cell_type": "code",
      "execution_count": null,
      "id": "9897d7ab",
      "metadata": {
        "hidden": true,
        "id": "9897d7ab"
      },
      "outputs": [],
      "source": [
        "model = LogisticRegression(multi_class='ovr')\n",
        "# fit model\n",
        "model.fit(X_train, y_train)"
      ]
    },
    {
      "cell_type": "code",
      "execution_count": null,
      "id": "f418b12f",
      "metadata": {
        "hidden": true,
        "id": "f418b12f"
      },
      "outputs": [],
      "source": [
        "print(f'Training Accuracy:{model.score(X_train,y_train)}')\n",
        "print(f'Validation Accuracy :{model.score(X_val,y_val)}')\n",
        "print(f'Test Accuracy:{model.score(X_test,y_test)}')"
      ]
    },
    {
      "cell_type": "code",
      "execution_count": null,
      "id": "91533ee8",
      "metadata": {
        "hidden": true,
        "id": "91533ee8"
      },
      "outputs": [],
      "source": [
        "X"
      ]
    },
    {
      "cell_type": "code",
      "execution_count": null,
      "id": "baa2e8fc",
      "metadata": {
        "hidden": true,
        "id": "baa2e8fc"
      },
      "outputs": [],
      "source": [
        "_, ax = plt.subplots()\n",
        "DecisionBoundaryDisplay.from_estimator(model, X, response_method=\"predict\", cmap=plt.cm.Paired, ax=ax)\n",
        "plt.title(\"Decision surface of LogisticRegression\")\n",
        "plt.axis(\"tight\")\n",
        "\n",
        "# Plot also the training points\n",
        "colors = \"bry\"\n",
        "for i, color in zip(model.classes_, colors):\n",
        "        idx = np.where(y == i)\n",
        "        plt.scatter(\n",
        "            X[idx, 0], X[idx, 1], c=color, cmap=plt.cm.Paired, edgecolor=\"black\", s=20\n",
        "        )\n",
        "\n",
        "\n",
        "# Plot the three one-against-all classifiers\n",
        "xmin, xmax = plt.xlim()\n",
        "ymin, ymax = plt.ylim()\n",
        "coef = model.coef_\n",
        "intercept = model.intercept_\n",
        "\n",
        "def plot_hyperplane(c, color):\n",
        "        def line(x0):\n",
        "            return (-(x0 * coef[c, 0]) - intercept[c]) / coef[c, 1]\n",
        "\n",
        "        plt.plot([xmin, xmax], [line(xmin), line(xmax)], ls=\"--\", color=color)\n",
        "\n",
        "for i, color in zip(model.classes_, colors):\n",
        "        plot_hyperplane(i, color)\n",
        "\n",
        "plt.show()"
      ]
    },
    {
      "cell_type": "code",
      "execution_count": null,
      "id": "6118d018",
      "metadata": {
        "hidden": true,
        "id": "6118d018"
      },
      "outputs": [],
      "source": []
    },
    {
      "cell_type": "markdown",
      "id": "1778e3ab",
      "metadata": {
        "id": "1778e3ab"
      },
      "source": [
        "# Classification Metrics\n"
      ]
    },
    {
      "cell_type": "code",
      "execution_count": null,
      "id": "1977aa6f",
      "metadata": {
        "id": "1977aa6f"
      },
      "outputs": [],
      "source": [
        "import pandas as pd\n",
        "import numpy as np\n",
        "import matplotlib.pyplot as plt"
      ]
    },
    {
      "cell_type": "code",
      "execution_count": null,
      "id": "fe4f4bf0",
      "metadata": {
        "id": "fe4f4bf0"
      },
      "outputs": [],
      "source": [
        "!gdown 1CgBW5H54YfdYtJmYE5GWctaHZSpFt71V"
      ]
    },
    {
      "cell_type": "code",
      "execution_count": null,
      "id": "86435c8d",
      "metadata": {
        "id": "86435c8d"
      },
      "outputs": [],
      "source": [
        "demo1 = pd.read_csv('spam_ham_dataset.csv')\n",
        "demo1.drop(['Unnamed: 0','label'],axis=1,inplace=True)\n",
        "demo1.head()"
      ]
    },
    {
      "cell_type": "code",
      "execution_count": null,
      "id": "8180fa2f",
      "metadata": {
        "id": "8180fa2f"
      },
      "outputs": [],
      "source": [
        "!gdown 1dw56R8SzKgTgiKurfBLUTxmiewJacMkt"
      ]
    },
    {
      "cell_type": "code",
      "execution_count": null,
      "id": "5d86feee",
      "metadata": {
        "id": "5d86feee"
      },
      "outputs": [],
      "source": [
        "dt = pd.read_csv('Spam_finalData.csv')"
      ]
    },
    {
      "cell_type": "code",
      "execution_count": null,
      "id": "65f9bcf8",
      "metadata": {
        "id": "65f9bcf8"
      },
      "outputs": [],
      "source": [
        "from sklearn.model_selection import train_test_split\n",
        "\n",
        "X_train,X_test,y_train,y_test = train_test_split(dt.drop(['label_num'],axis=1),dt['label_num'])"
      ]
    },
    {
      "cell_type": "code",
      "execution_count": null,
      "id": "13bcd4cc",
      "metadata": {
        "id": "13bcd4cc"
      },
      "outputs": [],
      "source": [
        "y_test.value_counts().plot(kind='bar')\n",
        "plt.xlabel('Class')\n",
        "plt.ylabel('Number of Samples')\n",
        "plt.title('Test Data Distribution')\n",
        "plt.show()"
      ]
    },
    {
      "cell_type": "code",
      "execution_count": null,
      "id": "bcdd6add",
      "metadata": {
        "id": "bcdd6add"
      },
      "outputs": [],
      "source": [
        "from sklearn.linear_model import LogisticRegression\n",
        "\n",
        "\n",
        "model = LogisticRegression()\n",
        "model.fit(X_train,y_train)\n"
      ]
    },
    {
      "cell_type": "code",
      "execution_count": null,
      "id": "64c53b60",
      "metadata": {
        "id": "64c53b60"
      },
      "outputs": [],
      "source": [
        "print('Model Accuracy:',model.score(X_test,y_test))"
      ]
    },
    {
      "cell_type": "code",
      "execution_count": null,
      "id": "eb857d5f",
      "metadata": {
        "id": "eb857d5f"
      },
      "outputs": [],
      "source": [
        "from sklearn.metrics import confusion_matrix, ConfusionMatrixDisplay\n",
        "\n",
        "y_pred = model.predict(X_test)\n",
        "\n",
        "conf_matrix = confusion_matrix(y_test, y_pred)\n",
        "conf_matrix # 2D np array"
      ]
    },
    {
      "cell_type": "code",
      "execution_count": null,
      "id": "716f0f7e",
      "metadata": {
        "id": "716f0f7e"
      },
      "outputs": [],
      "source": [
        "from matplotlib import pyplot as plt"
      ]
    },
    {
      "cell_type": "code",
      "execution_count": null,
      "id": "e91df4bf",
      "metadata": {
        "id": "e91df4bf"
      },
      "outputs": [],
      "source": [
        "# ax used here to control the size of confusion matrix\n",
        "fig, ax = plt.subplots(figsize=(5,5))\n",
        "ConfusionMatrixDisplay(conf_matrix).plot(ax = ax)"
      ]
    },
    {
      "cell_type": "markdown",
      "id": "d7227674",
      "metadata": {
        "id": "d7227674"
      },
      "source": [
        "Finding Accuracy using Confusion Matrix"
      ]
    },
    {
      "cell_type": "code",
      "execution_count": null,
      "id": "be7bb6c0",
      "metadata": {
        "id": "be7bb6c0"
      },
      "outputs": [],
      "source": [
        "np.diag(conf_matrix).sum() / conf_matrix.sum()"
      ]
    },
    {
      "cell_type": "code",
      "execution_count": null,
      "id": "1787fe3d",
      "metadata": {
        "id": "1787fe3d"
      },
      "outputs": [],
      "source": [
        "fig, ax = plt.subplots(figsize=(5,5))\n",
        "ConfusionMatrixDisplay(conf_matrix).plot(ax = ax)\n"
      ]
    },
    {
      "cell_type": "code",
      "execution_count": null,
      "id": "021de064",
      "metadata": {
        "id": "021de064"
      },
      "outputs": [],
      "source": [
        "def precision_calc(conf):\n",
        "    tp = conf[1,1]\n",
        "    fp = conf[0,1]\n",
        "\n",
        "    return tp/(tp+fp)"
      ]
    },
    {
      "cell_type": "code",
      "execution_count": null,
      "id": "a25116ee",
      "metadata": {
        "id": "a25116ee"
      },
      "outputs": [],
      "source": [
        "precision_calc(conf_matrix)"
      ]
    },
    {
      "cell_type": "code",
      "execution_count": null,
      "id": "f5f71c69",
      "metadata": {
        "id": "f5f71c69"
      },
      "outputs": [],
      "source": [
        "from sklearn.metrics import precision_score\n",
        "\n",
        "precision_score(y_test, y_pred)"
      ]
    },
    {
      "cell_type": "code",
      "execution_count": null,
      "id": "b2167409",
      "metadata": {
        "id": "b2167409"
      },
      "outputs": [],
      "source": [
        "fig, ax = plt.subplots(figsize=(5,5))\n",
        "ConfusionMatrixDisplay(conf_matrix).plot(ax = ax)"
      ]
    },
    {
      "cell_type": "code",
      "execution_count": null,
      "id": "fd3a3976",
      "metadata": {
        "id": "fd3a3976"
      },
      "outputs": [],
      "source": [
        "def recall_calc(conf):\n",
        "    tp = conf[1,1]\n",
        "    fn = conf[1,0]\n",
        "\n",
        "    return tp/(tp+fn)"
      ]
    },
    {
      "cell_type": "code",
      "execution_count": null,
      "id": "6e6ea6d5",
      "metadata": {
        "id": "6e6ea6d5"
      },
      "outputs": [],
      "source": [
        "recall_calc(conf_matrix)"
      ]
    },
    {
      "cell_type": "code",
      "execution_count": null,
      "id": "8932c450",
      "metadata": {
        "id": "8932c450"
      },
      "outputs": [],
      "source": [
        "from sklearn.metrics import recall_score\n",
        "\n",
        "recall_score(y_test, y_pred)"
      ]
    },
    {
      "cell_type": "code",
      "execution_count": null,
      "id": "980b2a56",
      "metadata": {
        "id": "980b2a56"
      },
      "outputs": [],
      "source": []
    },
    {
      "cell_type": "code",
      "execution_count": null,
      "id": "c31275d9",
      "metadata": {
        "id": "c31275d9"
      },
      "outputs": [],
      "source": [
        "ConfusionMatrixDisplay(conf_matrix).plot()"
      ]
    },
    {
      "cell_type": "code",
      "execution_count": null,
      "id": "5f4d31b1",
      "metadata": {
        "id": "5f4d31b1"
      },
      "outputs": [],
      "source": [
        "pre = precision_calc(conf_matrix)\n",
        "re = precision_calc(conf_matrix)\n",
        "\n",
        "f1 = 2* (pre*re)/(pre+re+1e-6)\n",
        "\n",
        "print(f'f1Score:{f1}')"
      ]
    },
    {
      "cell_type": "code",
      "execution_count": null,
      "id": "1c499a3f",
      "metadata": {
        "id": "1c499a3f"
      },
      "outputs": [],
      "source": [
        "from sklearn.metrics import f1_score"
      ]
    },
    {
      "cell_type": "code",
      "execution_count": null,
      "id": "7ab822bb",
      "metadata": {
        "id": "7ab822bb"
      },
      "outputs": [],
      "source": [
        "print(f'f1Score:{f1_score(y_test,y_pred)}')"
      ]
    },
    {
      "cell_type": "code",
      "execution_count": null,
      "id": "a752bb38",
      "metadata": {
        "id": "a752bb38"
      },
      "outputs": [],
      "source": []
    },
    {
      "cell_type": "code",
      "execution_count": null,
      "id": "1cb1b488",
      "metadata": {
        "id": "1cb1b488"
      },
      "outputs": [],
      "source": [
        "from sklearn.metrics import roc_curve, roc_auc_score\n"
      ]
    },
    {
      "cell_type": "code",
      "execution_count": null,
      "id": "aae1fee5",
      "metadata": {
        "id": "aae1fee5"
      },
      "outputs": [],
      "source": [
        "probability = model.predict_proba(X_test)"
      ]
    },
    {
      "cell_type": "code",
      "execution_count": null,
      "id": "c80134d9",
      "metadata": {
        "id": "c80134d9"
      },
      "outputs": [],
      "source": [
        "probability"
      ]
    },
    {
      "cell_type": "code",
      "execution_count": null,
      "id": "016a4c35",
      "metadata": {
        "id": "016a4c35"
      },
      "outputs": [],
      "source": [
        "probabilites = probability[:,1]"
      ]
    },
    {
      "cell_type": "code",
      "execution_count": null,
      "id": "82a8b718",
      "metadata": {
        "id": "82a8b718"
      },
      "outputs": [],
      "source": [
        "fpr, tpr, thr = roc_curve(y_test,probabilites)"
      ]
    },
    {
      "cell_type": "code",
      "execution_count": null,
      "id": "ba94a8ac",
      "metadata": {
        "id": "ba94a8ac"
      },
      "outputs": [],
      "source": [
        "plt.plot(fpr,tpr)\n",
        "\n",
        "#random model\n",
        "plt.plot(fpr,fpr,'--',color='red' )\n",
        "plt.title('ROC curve')\n",
        "plt.xlabel('FPR')\n",
        "plt.ylabel('TPR')\n",
        "plt.show()"
      ]
    },
    {
      "cell_type": "code",
      "execution_count": null,
      "id": "0383f30b",
      "metadata": {
        "id": "0383f30b"
      },
      "outputs": [],
      "source": [
        "# AUC\n",
        "roc_auc_score(y_test,probabilites)"
      ]
    },
    {
      "cell_type": "code",
      "execution_count": null,
      "id": "e6f1d65d",
      "metadata": {
        "id": "e6f1d65d"
      },
      "outputs": [],
      "source": []
    },
    {
      "cell_type": "code",
      "execution_count": null,
      "id": "fd964a22",
      "metadata": {
        "id": "fd964a22"
      },
      "outputs": [],
      "source": [
        "from sklearn.metrics import precision_recall_curve\n",
        "from sklearn.metrics import auc"
      ]
    },
    {
      "cell_type": "code",
      "execution_count": null,
      "id": "8684e773",
      "metadata": {
        "id": "8684e773"
      },
      "outputs": [],
      "source": [
        "precision, recall, thr = precision_recall_curve(y_test, probabilites)"
      ]
    },
    {
      "cell_type": "code",
      "execution_count": null,
      "id": "d1415fb9",
      "metadata": {
        "id": "d1415fb9"
      },
      "outputs": [],
      "source": [
        "plt.plot(recall, precision)\n",
        "\n",
        "plt.xlabel('Recall')\n",
        "plt.ylabel('Precision')\n",
        "plt.title('PR curve')\n",
        "plt.show()"
      ]
    },
    {
      "cell_type": "code",
      "execution_count": null,
      "id": "32852884",
      "metadata": {
        "id": "32852884"
      },
      "outputs": [],
      "source": [
        "auc(recall, precision)"
      ]
    },
    {
      "cell_type": "code",
      "execution_count": null,
      "id": "78913ad4",
      "metadata": {
        "id": "78913ad4"
      },
      "outputs": [],
      "source": []
    },
    {
      "cell_type": "markdown",
      "id": "77a7cb02",
      "metadata": {
        "id": "77a7cb02"
      },
      "source": [
        "# Class Imbalance"
      ]
    },
    {
      "cell_type": "code",
      "execution_count": null,
      "id": "1fd7cbf8",
      "metadata": {
        "id": "1fd7cbf8"
      },
      "outputs": [],
      "source": []
    },
    {
      "cell_type": "code",
      "execution_count": null,
      "id": "2eb032a6",
      "metadata": {
        "id": "2eb032a6"
      },
      "outputs": [],
      "source": [
        "y_train.value_counts().plot(kind='bar')\n",
        "plt.xlabel('Class')\n",
        "plt.ylabel('Number of Samples')\n",
        "plt.title('Train Data Distribution')\n",
        "plt.show()"
      ]
    },
    {
      "cell_type": "code",
      "execution_count": null,
      "id": "eb5c85ba",
      "metadata": {
        "id": "eb5c85ba"
      },
      "outputs": [],
      "source": [
        "# Model creation, prediction\n",
        "\n",
        "def training(model,X_train,y_train,X_test,y_test):\n",
        "\n",
        "    model.fit(X_train, y_train)\n",
        "\n",
        "    train_y_pred = model.predict(X_train)\n",
        "    test_y_pred = model.predict(X_test)\n",
        "\n",
        "    train_score = f1_score(y_train, train_y_pred)\n",
        "    test_score = f1_score(y_test, test_y_pred)\n",
        "\n",
        "    return train_score,test_score\n"
      ]
    },
    {
      "cell_type": "code",
      "execution_count": null,
      "id": "8680c17f",
      "metadata": {
        "id": "8680c17f"
      },
      "outputs": [],
      "source": [
        "# minority class needs more re-weighting\n",
        "\n",
        "\n",
        "from sklearn.linear_model import LogisticRegression\n",
        "from sklearn.metrics import f1_score\n",
        "\n",
        "model = LogisticRegression(class_weight={0:1,1:2.37})\n",
        "\n",
        "f1_train,f1_test = training(model,X_train,y_train,X_test,y_test)\n",
        "print(f'Training F1 score:{f1_train}, Testing F1 score:{f1_test}')"
      ]
    },
    {
      "cell_type": "code",
      "execution_count": null,
      "id": "d0ef267d",
      "metadata": {
        "id": "d0ef267d"
      },
      "outputs": [],
      "source": [
        "from sklearn.metrics import confusion_matrix, ConfusionMatrixDisplay\n",
        "\n",
        "y_pred = model.predict(X_test)\n",
        "\n",
        "conf_matrix = confusion_matrix(y_test, y_pred)\n",
        "\n",
        "ConfusionMatrixDisplay(conf_matrix).plot()"
      ]
    },
    {
      "cell_type": "code",
      "execution_count": null,
      "id": "b1177bab",
      "metadata": {
        "id": "b1177bab"
      },
      "outputs": [],
      "source": []
    },
    {
      "cell_type": "code",
      "execution_count": null,
      "id": "87ecc9ea",
      "metadata": {
        "id": "87ecc9ea"
      },
      "outputs": [],
      "source": [
        "from sklearn.linear_model import LogisticRegression\n",
        "from sklearn.metrics import f1_score\n",
        "from imblearn.over_sampling import RandomOverSampler\n",
        "\n",
        "# Create an instance of RandomOverSampler\n",
        "oversampler = RandomOverSampler()\n",
        "\n",
        "# Perform oversampling on the training data\n",
        "print('Before Oversampling')\n",
        "print(y_train.value_counts())\n",
        "X_train_oversampled, y_train_oversampled = oversampler.fit_resample(X_train, y_train)\n",
        "\n",
        "print('After Oversampling')\n",
        "print(y_train_oversampled.value_counts())\n",
        "\n",
        "model = LogisticRegression()\n",
        "\n",
        "f1_train,f1_test = training(model,X_train_oversampled, y_train_oversampled,X_test,y_test)\n",
        "\n",
        "print(f'Training F1 score:{f1_train}, Testing F1 score:{f1_test}')"
      ]
    },
    {
      "cell_type": "code",
      "execution_count": null,
      "id": "c71e92fd",
      "metadata": {
        "id": "c71e92fd"
      },
      "outputs": [],
      "source": []
    },
    {
      "cell_type": "code",
      "execution_count": null,
      "id": "01f1e879",
      "metadata": {
        "id": "01f1e879"
      },
      "outputs": [],
      "source": [
        "from sklearn.linear_model import LogisticRegression\n",
        "from sklearn.metrics import f1_score\n",
        "from imblearn.over_sampling import SMOTE\n",
        "\n",
        "# Create an instance of SMOTE\n",
        "smt = SMOTE()\n",
        "\n",
        "\n",
        "# Perform SMOTE on the training data\n",
        "print('Before SMOTE')\n",
        "print(y_train.value_counts())\n",
        "\n",
        "X_sm, y_sm = smt.fit_resample(X_train, y_train)\n",
        "print('After Oversampling')\n",
        "print(y_train_oversampled.value_counts())\n",
        "\n",
        "model = LogisticRegression(C= 5, penalty= 'l1', solver = 'liblinear')\n",
        "\n",
        "f1_train,f1_test = training(model,X_sm, y_sm,X_test,y_test)\n",
        "\n",
        "print(f'Training F1 score:{f1_train}, Testing F1 score:{f1_test}')\n",
        "\n"
      ]
    },
    {
      "cell_type": "code",
      "execution_count": null,
      "id": "5a18844f",
      "metadata": {
        "id": "5a18844f"
      },
      "outputs": [],
      "source": []
    },
    {
      "cell_type": "code",
      "execution_count": null,
      "id": "d7315245",
      "metadata": {
        "id": "d7315245"
      },
      "outputs": [],
      "source": []
    },
    {
      "cell_type": "code",
      "execution_count": null,
      "id": "f97c779d",
      "metadata": {
        "id": "f97c779d"
      },
      "outputs": [],
      "source": []
    },
    {
      "cell_type": "code",
      "execution_count": null,
      "id": "14eb032e",
      "metadata": {
        "id": "14eb032e"
      },
      "outputs": [],
      "source": []
    },
    {
      "cell_type": "code",
      "execution_count": null,
      "id": "53974522",
      "metadata": {
        "id": "53974522"
      },
      "outputs": [],
      "source": []
    }
  ],
  "metadata": {
    "kernelspec": {
      "display_name": "Python 3 (ipykernel)",
      "language": "python",
      "name": "python3"
    },
    "language_info": {
      "codemirror_mode": {
        "name": "ipython",
        "version": 3
      },
      "file_extension": ".py",
      "mimetype": "text/x-python",
      "name": "python",
      "nbconvert_exporter": "python",
      "pygments_lexer": "ipython3",
      "version": "3.9.7"
    },
    "varInspector": {
      "cols": {
        "lenName": 16,
        "lenType": 16,
        "lenVar": 40
      },
      "kernels_config": {
        "python": {
          "delete_cmd_postfix": "",
          "delete_cmd_prefix": "del ",
          "library": "var_list.py",
          "varRefreshCmd": "print(var_dic_list())"
        },
        "r": {
          "delete_cmd_postfix": ") ",
          "delete_cmd_prefix": "rm(",
          "library": "var_list.r",
          "varRefreshCmd": "cat(var_dic_list()) "
        }
      },
      "types_to_exclude": [
        "module",
        "function",
        "builtin_function_or_method",
        "instance",
        "_Feature"
      ],
      "window_display": false
    },
    "colab": {
      "provenance": [],
      "include_colab_link": true
    }
  },
  "nbformat": 4,
  "nbformat_minor": 5
}